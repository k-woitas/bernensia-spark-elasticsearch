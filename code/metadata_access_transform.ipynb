{
 "cells": [
  {
   "cell_type": "markdown",
   "id": "5a8f2aae",
   "metadata": {},
   "source": [
    "# Access and transform XML metadata and integrate with fulltexts to JSON"
   ]
  },
  {
   "cell_type": "markdown",
   "id": "f1f97dd9",
   "metadata": {
    "toc": true
   },
   "source": [
    "<h1><span class=\"tocSkip\"></span></h1>\n",
    "<div class=\"toc\"><ul class=\"toc-item\"><li><span><a href=\"#Prerequisites\" data-toc-modified-id=\"Prerequisites-0\"><span class=\"toc-item-num\">0&nbsp;&nbsp;</span>Prerequisites</a></span></li><li><span><a href=\"#Access-XML-metadata-from-e-periodica-and-e-rara\" data-toc-modified-id=\"Access-XML-metadata-from-e-periodica-and-e-rara-1\"><span class=\"toc-item-num\">1&nbsp;&nbsp;</span>Access XML metadata from e-periodica and e-rara</a></span><ul class=\"toc-item\"><li><span><a href=\"#Access-XML-metadata-from-e-periodica-and-save-to-local\" data-toc-modified-id=\"Access-XML-metadata-from-e-periodica-and-save-to-local-1.1\"><span class=\"toc-item-num\">1.1&nbsp;&nbsp;</span>Access XML metadata from e-periodica and save to local</a></span></li><li><span><a href=\"#Access-XML-metadata-from-e-rara-(Bernensia-set)-and-save-to-local\" data-toc-modified-id=\"Access-XML-metadata-from-e-rara-(Bernensia-set)-and-save-to-local-1.2\"><span class=\"toc-item-num\">1.2&nbsp;&nbsp;</span>Access XML metadata from e-rara (Bernensia set) and save to local</a></span></li><li><span><a href=\"#Upload-to-AWS-S3\" data-toc-modified-id=\"Upload-to-AWS-S3-1.3\"><span class=\"toc-item-num\">1.3&nbsp;&nbsp;</span>Upload to AWS S3</a></span></li></ul></li><li><span><a href=\"#Transform-XML-file-to-JSON\" data-toc-modified-id=\"Transform-XML-file-to-JSON-2\"><span class=\"toc-item-num\">2&nbsp;&nbsp;</span>Transform XML file to JSON</a></span><ul class=\"toc-item\"><li><span><a href=\"#Transform-e-rara-XML-to-JSON-with-inserting-full-texts---local\" data-toc-modified-id=\"Transform-e-rara-XML-to-JSON-with-inserting-full-texts---local-2.1\"><span class=\"toc-item-num\">2.1&nbsp;&nbsp;</span>Transform e-rara XML to JSON with inserting full texts - local</a></span></li><li><span><a href=\"#Transform-e-periodica-XML-to-JSON-with-inserting-full-texts---remote:-S3-->-S3\" data-toc-modified-id=\"Transform-e-periodica-XML-to-JSON-with-inserting-full-texts---remote:-S3-->-S3-2.2\"><span class=\"toc-item-num\">2.2&nbsp;&nbsp;</span>Transform e-periodica XML to JSON with inserting full texts - remote: S3 -&gt; S3</a></span></li><li><span><a href=\"#Transform-e-periodica-XML-to-JSON-without-fulltexts---local\" data-toc-modified-id=\"Transform-e-periodica-XML-to-JSON-without-fulltexts---local-2.3\"><span class=\"toc-item-num\">2.3&nbsp;&nbsp;</span>Transform e-periodica XML to JSON without fulltexts - local</a></span></li></ul></li></ul></div>"
   ]
  },
  {
   "cell_type": "markdown",
   "id": "b5ea2103",
   "metadata": {},
   "source": [
    "## Prerequisites"
   ]
  },
  {
   "cell_type": "code",
   "execution_count": 26,
   "id": "85b4a51c",
   "metadata": {},
   "outputs": [
    {
     "name": "stdout",
     "output_type": "stream",
     "text": [
      "Requirement already satisfied: lxml in /opt/conda/lib/python3.8/site-packages (4.6.3)\n",
      "Requirement already satisfied: xmltodict in /opt/conda/lib/python3.8/site-packages (0.12.0)\n",
      "Requirement already satisfied: awscli in /opt/conda/lib/python3.8/site-packages (1.20.55)\n",
      "Requirement already satisfied: colorama<0.4.4,>=0.2.5 in /opt/conda/lib/python3.8/site-packages (from awscli) (0.4.3)\n",
      "Requirement already satisfied: rsa<4.8,>=3.1.2 in /opt/conda/lib/python3.8/site-packages (from awscli) (4.7.2)\n",
      "Requirement already satisfied: docutils<0.16,>=0.10 in /opt/conda/lib/python3.8/site-packages (from awscli) (0.15.2)\n",
      "Requirement already satisfied: botocore==1.21.55 in /opt/conda/lib/python3.8/site-packages (from awscli) (1.21.55)\n",
      "Requirement already satisfied: s3transfer<0.6.0,>=0.5.0 in /opt/conda/lib/python3.8/site-packages (from awscli) (0.5.0)\n",
      "Requirement already satisfied: PyYAML<5.5,>=3.10 in /opt/conda/lib/python3.8/site-packages (from awscli) (5.4.1)\n",
      "Requirement already satisfied: urllib3<1.27,>=1.25.4 in /opt/conda/lib/python3.8/site-packages (from botocore==1.21.55->awscli) (1.26.3)\n",
      "Requirement already satisfied: python-dateutil<3.0.0,>=2.1 in /opt/conda/lib/python3.8/site-packages (from botocore==1.21.55->awscli) (2.8.1)\n",
      "Requirement already satisfied: jmespath<1.0.0,>=0.7.1 in /opt/conda/lib/python3.8/site-packages (from botocore==1.21.55->awscli) (0.10.0)\n",
      "Requirement already satisfied: six>=1.5 in /opt/conda/lib/python3.8/site-packages (from python-dateutil<3.0.0,>=2.1->botocore==1.21.55->awscli) (1.15.0)\n",
      "Requirement already satisfied: pyasn1>=0.1.3 in /opt/conda/lib/python3.8/site-packages (from rsa<4.8,>=3.1.2->awscli) (0.4.8)\n",
      "Requirement already satisfied: boto3 in /opt/conda/lib/python3.8/site-packages (1.18.54)\n",
      "Requirement already satisfied: s3transfer<0.6.0,>=0.5.0 in /opt/conda/lib/python3.8/site-packages (from boto3) (0.5.0)\n",
      "Requirement already satisfied: botocore<1.22.0,>=1.21.54 in /opt/conda/lib/python3.8/site-packages (from boto3) (1.21.55)\n",
      "Requirement already satisfied: jmespath<1.0.0,>=0.7.1 in /opt/conda/lib/python3.8/site-packages (from boto3) (0.10.0)\n",
      "Requirement already satisfied: python-dateutil<3.0.0,>=2.1 in /opt/conda/lib/python3.8/site-packages (from botocore<1.22.0,>=1.21.54->boto3) (2.8.1)\n",
      "Requirement already satisfied: urllib3<1.27,>=1.25.4 in /opt/conda/lib/python3.8/site-packages (from botocore<1.22.0,>=1.21.54->boto3) (1.26.3)\n",
      "Requirement already satisfied: six>=1.5 in /opt/conda/lib/python3.8/site-packages (from python-dateutil<3.0.0,>=2.1->botocore<1.22.0,>=1.21.54->boto3) (1.15.0)\n",
      "Succesfully imported necessary libraries\n"
     ]
    }
   ],
   "source": [
    "# Load the necessary libraries\n",
    "import requests                                 # request URLs\n",
    "from bs4 import BeautifulSoup as soup           # webscrape and parse HTML and XML\n",
    "!pip install lxml\n",
    "import lxml                                     # XML parser supported by bs4\n",
    "                                                # call with soup(markup, 'lxml-xml' OR 'xml')\n",
    "import os                                       # navigate and manipulate file directories\n",
    "import time                                     # work with time stamps\n",
    "import pandas as pd                             # pandas is the Python standard library to work with dataframes\n",
    "import math                                     # work with mathematical functions\n",
    "import re                                       # work with regular expressions\n",
    "!pip install xmltodict\n",
    "import xmltodict                                # read and transform XML\n",
    "import json                                     # work with rjson\n",
    "from IPython.display import IFrame              # embed website views in Jupyter Notebook\n",
    "from IPython.utils import io                    # for capturing output\n",
    "\n",
    "!pip install awscli\n",
    "!pip install boto3\n",
    "import boto3\n",
    "\n",
    "print(\"Succesfully imported necessary libraries\")"
   ]
  },
  {
   "cell_type": "markdown",
   "id": "80eaaaef",
   "metadata": {},
   "source": [
    "## Access XML metadata from e-periodica and e-rara"
   ]
  },
  {
   "cell_type": "markdown",
   "id": "f382e384",
   "metadata": {},
   "source": [
    "### Access XML metadata from e-periodica and save to local"
   ]
  },
  {
   "cell_type": "code",
   "execution_count": 6,
   "id": "bb964329",
   "metadata": {},
   "outputs": [],
   "source": [
    "oai = 'https://www.e-periodica.ch/oai/'\n",
    "\n",
    "def load_xml(params):\n",
    "    '''\n",
    "    Accesses the OAI interface according to given parameters and scrapes its content.\n",
    "    Parameters:\n",
    "    All available native OAI verbs and parameter/value pairs.\n",
    "    '''\n",
    "    base_url = oai\n",
    "    response = requests.get(base_url, params=params)\n",
    "    output_soup = soup(response.content, \"lxml\")\n",
    "    return output_soup\n",
    "\n",
    "def download_record(ID, filename=None):\n",
    "    '''\n",
    "    Downloads a certain metadata record from OAI to a single XML file.\n",
    "    Throws a notice if metadata file already exists and leaves the existing one.\n",
    "    Parameters:\n",
    "    ID = E-periodica ID of the desired record.\n",
    "    filename = File name to choose for the downloaded record. Without a filename one is derived from ID.\n",
    "    '''\n",
    "    path = os.getcwd()\n",
    "    output_soup = load_xml({'verb': 'GetRecord', 'metadataPrefix': 'oai_dc', 'identifier': 'oai:agora.ch:' + str(ID)})\n",
    "    if filename == None:\n",
    "        filename=re.sub(':', '_', ID)\n",
    "    else: pass\n",
    "    outfile = path + '/{}.xml'.format(filename) \n",
    "    try:\n",
    "        with open(outfile, mode='x', encoding='utf-8') as f:\n",
    "            f.write(output_soup.decode())\n",
    "            #print(\"Metadata file {}.xml saved\".format(filename))\n",
    "    except FileExistsError:\n",
    "            print(\"Metadata file {}.xml exists already\".format(filename))\n",
    "    finally:\n",
    "            pass"
   ]
  },
  {
   "cell_type": "code",
   "execution_count": 13,
   "id": "c9af734d",
   "metadata": {},
   "outputs": [],
   "source": [
    "# Test\n",
    "download_record('zgh-001:1977:39::177', 'test')"
   ]
  },
  {
   "cell_type": "code",
   "execution_count": 4,
   "id": "427782f8",
   "metadata": {},
   "outputs": [
    {
     "data": {
      "text/html": [
       "<div>\n",
       "<style scoped>\n",
       "    .dataframe tbody tr th:only-of-type {\n",
       "        vertical-align: middle;\n",
       "    }\n",
       "\n",
       "    .dataframe tbody tr th {\n",
       "        vertical-align: top;\n",
       "    }\n",
       "\n",
       "    .dataframe thead th {\n",
       "        text-align: right;\n",
       "    }\n",
       "</style>\n",
       "<table border=\"1\" class=\"dataframe\">\n",
       "  <thead>\n",
       "    <tr style=\"text-align: right;\">\n",
       "      <th></th>\n",
       "      <th>Column 1</th>\n",
       "      <th>Column 2</th>\n",
       "      <th>size</th>\n",
       "      <th>id_intern</th>\n",
       "      <th>file</th>\n",
       "    </tr>\n",
       "  </thead>\n",
       "  <tbody>\n",
       "    <tr>\n",
       "      <th>0</th>\n",
       "      <td>2021-09-26</td>\n",
       "      <td>12:03:57</td>\n",
       "      <td>9.9 MiB</td>\n",
       "      <td>zgh-001:1939:1::293</td>\n",
       "      <td>zgh-001:1939:1::293.pdf</td>\n",
       "    </tr>\n",
       "    <tr>\n",
       "      <th>1</th>\n",
       "      <td>2021-09-26</td>\n",
       "      <td>12:03:58</td>\n",
       "      <td>3.5 MiB</td>\n",
       "      <td>zgh-001:1939:1::294</td>\n",
       "      <td>zgh-001:1939:1::294.pdf</td>\n",
       "    </tr>\n",
       "    <tr>\n",
       "      <th>2</th>\n",
       "      <td>2021-09-26</td>\n",
       "      <td>12:04:01</td>\n",
       "      <td>11.0 MiB</td>\n",
       "      <td>zgh-001:1939:1::295</td>\n",
       "      <td>zgh-001:1939:1::295.pdf</td>\n",
       "    </tr>\n",
       "    <tr>\n",
       "      <th>3</th>\n",
       "      <td>2021-09-26</td>\n",
       "      <td>12:04:03</td>\n",
       "      <td>9.1 MiB</td>\n",
       "      <td>zgh-001:1939:1::296</td>\n",
       "      <td>zgh-001:1939:1::296.pdf</td>\n",
       "    </tr>\n",
       "    <tr>\n",
       "      <th>4</th>\n",
       "      <td>2021-09-26</td>\n",
       "      <td>12:04:05</td>\n",
       "      <td>1.4 MiB</td>\n",
       "      <td>zgh-001:1939:1::297</td>\n",
       "      <td>zgh-001:1939:1::297.pdf</td>\n",
       "    </tr>\n",
       "  </tbody>\n",
       "</table>\n",
       "</div>"
      ],
      "text/plain": [
       "      Column 1   Column 2         size            id_intern  \\\n",
       "0  2021-09-26   12:03:57      9.9 MiB   zgh-001:1939:1::293   \n",
       "1  2021-09-26   12:03:58      3.5 MiB   zgh-001:1939:1::294   \n",
       "2  2021-09-26   12:04:01     11.0 MiB   zgh-001:1939:1::295   \n",
       "3  2021-09-26   12:04:03      9.1 MiB   zgh-001:1939:1::296   \n",
       "4  2021-09-26   12:04:05      1.4 MiB   zgh-001:1939:1::297   \n",
       "\n",
       "                      file  \n",
       "0  zgh-001:1939:1::293.pdf  \n",
       "1  zgh-001:1939:1::294.pdf  \n",
       "2  zgh-001:1939:1::295.pdf  \n",
       "3  zgh-001:1939:1::296.pdf  \n",
       "4  zgh-001:1939:1::297.pdf  "
      ]
     },
     "execution_count": 4,
     "metadata": {},
     "output_type": "execute_result"
    }
   ],
   "source": [
    "with open('content/eperiodica_files.csv', 'r') as f:\n",
    "    files = pd.read_csv(f, encoding='utf-8')\n",
    "files.head()"
   ]
  },
  {
   "cell_type": "code",
   "execution_count": 2,
   "id": "ba39500f",
   "metadata": {},
   "outputs": [],
   "source": [
    "for i in files.index:\n",
    "    download_record(files.id_intern[i])"
   ]
  },
  {
   "cell_type": "markdown",
   "id": "81edb0d9",
   "metadata": {},
   "source": [
    "### Access XML metadata from e-rara (Bernensia set) and save to local"
   ]
  },
  {
   "cell_type": "code",
   "execution_count": 51,
   "id": "2d3aedf5",
   "metadata": {},
   "outputs": [],
   "source": [
    "def retrieve_set_metadata(Set, foldername, metadataPrefix='mods'):\n",
    "    '''\n",
    "    Downloads metadata records of a given set and in a given format from OAI to XML files\n",
    "    in a designated folder.\n",
    "    Therefore it\n",
    "    * requests e-rara OAI-PMH interface according to a set \n",
    "    * creates a folder for the records according to parameter foldername\n",
    "    * retrieves the set's e-rara IDs\n",
    "    * retrieves metadata according to IDs and given metadata format (default: MODS)\n",
    "    * saves metadata to single <e-rara ID>.xml files in the folder.\n",
    "    Parameters:\n",
    "    Set = The 'setSpec' short cut of the desired OAI set.\n",
    "    foldername = The name of the folder which will be created to hold the metadata files.\n",
    "    metadataPrefix = Metadata format to be delivered. Default value is MODS.\n",
    "    '''\n",
    "    start = time.perf_counter()\n",
    "\n",
    "    # Set parameters to the interface\n",
    "    base_url = oai\n",
    "    recordsearch_term = {'verb': 'GetRecord', 'metadataPrefix': metadataPrefix}\n",
    "    listsearch_term = {'verb': 'ListIdentifiers', 'metadataPrefix': metadataPrefix, 'set': Set}\n",
    "    \n",
    "    # Make a folder <metadata> with subfolder named like the set to store files in it\n",
    "    path = os.getcwd() + '/' + foldername\n",
    "    try:\n",
    "        os.makedirs(path, exist_ok = True)\n",
    "        print(\"Path {} is already available or created successfully\".format(path))\n",
    "    except OSError as error:\n",
    "        print(\"Path {} can not be created\".format(path))\n",
    "    \n",
    "        \n",
    "    # Basic functions\n",
    "    def load_xml(params):\n",
    "        '''\n",
    "        Accesses the OAI interface according to given parameters and scrapes its content.\n",
    "        '''\n",
    "        response = requests.get(base_url, params=params)\n",
    "        output_soup = soup(response.content, \"lxml\")\n",
    "        return output_soup\n",
    "\n",
    "    def download_record(ID):\n",
    "        '''\n",
    "        Downloads a certain metadata record from OAI to a single XML file.\n",
    "        Throws a notice if metadata file already exists and leaves the existing one.\n",
    "        Parameter:\n",
    "        ID = E-rara ID of the desired record.\n",
    "        '''\n",
    "        output_soup = load_xml({'verb': 'GetRecord', 'metadataPrefix': metadataPrefix, 'identifier': ID})\n",
    "        outfile = path + '/{}.xml'.format(ID) \n",
    "        try:\n",
    "            with open(outfile, mode='x', encoding='utf-8') as f:\n",
    "                    f.write(output_soup.decode())\n",
    "        except FileExistsError:\n",
    "                print(\"Metadata file {}.xml exists already\".format(ID))\n",
    "        finally:\n",
    "                pass\n",
    "\n",
    "    # Start with the first access to OAI interface - get the item IDs of a set\n",
    "    xml_soup = load_xml(listsearch_term)\n",
    "\n",
    "    # Calculate how many accesses it takes to go through all the pages of the results list, print notice\n",
    "    splits = math.ceil(int(xml_soup.resumptiontoken['completelistsize']) // 10) + 1\n",
    "    print(xml_soup.resumptiontoken['completelistsize'], 'identifiers to request in ', splits, 'data splits')\n",
    "    \n",
    "\n",
    "    for i in range(splits):\n",
    "        if i == 0:\n",
    "            # First access for item IDs - first page + information about whole length of results list\n",
    "            xml_soup_new = load_xml(listsearch_term)      \n",
    "        else:\n",
    "            # Following accesses for item IDs\n",
    "            xml_soup_new = load_xml({'verb': 'ListIdentifiers', 'resumptionToken': resumption_token})\n",
    "\n",
    "        # Scraping out the e-rara IDs\n",
    "        ids = [] \n",
    "        for ID in [(i.contents[0]) for i in xml_soup_new.find_all('identifier')]:\n",
    "            match = re.search('oai:www.e-rara.ch:(\\d+)', ID)      # extract the number following 'oai:www.e-rara.ch:'\n",
    "            if match:\n",
    "                ids.append(match.group(1))     # first parenthesized subgroup of group() = number\n",
    "\n",
    "        # Download the MODS metadata records according to retrieved e-rara IDs\n",
    "        print('Start retrieving metadata for e-rara IDs ', ids)  \n",
    "        for ID in ids:\n",
    "            download_record(ID)\n",
    "        ids = []\n",
    "\n",
    "        # Actualize the resumtpion token to retrieve the the next page\n",
    "        try:\n",
    "            new_token = xml_soup_new.find('resumptiontoken').get_text()\n",
    "            resumption_token = new_token\n",
    "            print('New resumption token:', resumption_token)\n",
    "        except AttributeError:\n",
    "            print('Reached end of IDs/results list')       # notice when last page is done\n",
    "        finally:\n",
    "            pass\n",
    "\n",
    "    with os.scandir(path) as entries:\n",
    "        count = 0\n",
    "        for entry in entries:\n",
    "            count += 1       \n",
    "    print(\"{} metadata files in {}\".format(count, path))\n",
    "    finish = time.perf_counter()\n",
    "    print(\"Finished in {} second(s)\".format(round(finish - start, 2)))"
   ]
  },
  {
   "cell_type": "code",
   "execution_count": 53,
   "id": "d007886e",
   "metadata": {},
   "outputs": [
    {
     "name": "stdout",
     "output_type": "stream",
     "text": [
      "Path /home/jovyan/xml-from_oai-e-rara is already available or created successfully\n",
      "571 identifiers to request in  58 data splits\n",
      "Start retrieving metadata for e-rara IDs  ['1395833', '1396731', '1397203', '1757425', '1757509', '1757592', '1757931', '1758267', '2069554', '4709578']\n",
      "New resumption token: 0x928e8fa96dcd710c248f7aebd1f02740-cursor_p_3D10_p_26set_p_3Dbernensia_p_26metadataPrefix_p_3Doai_dc_p_26batch_size_p_3D11\n",
      "Start retrieving metadata for e-rara IDs  ['4711794', '5706340', '5708393', '5709367', '5709444', '5710407', '5710598', '5710847', '5711104', '5711626']\n",
      "New resumption token: 0x737c57ec5788b68c3a9d0ad3df432805-cursor_p_3D20_p_26set_p_3Dbernensia_p_26metadataPrefix_p_3Doai_dc_p_26batch_size_p_3D11\n",
      "Start retrieving metadata for e-rara IDs  ['5711988', '5712774', '5713078', '5713424', '5713843', '6800516', '6800520', '6800524', '6800528', '6805629']\n",
      "New resumption token: 0x737c57ec5788b68c3a9d0ad3df432805-cursor_p_3D30_p_26set_p_3Dbernensia_p_26metadataPrefix_p_3Doai_dc_p_26batch_size_p_3D11\n",
      "Start retrieving metadata for e-rara IDs  ['6805699', '6805740', '6805813', '7244960', '7245165', '7245231', '7245480', '7245503', '7312645', '7312684']\n",
      "New resumption token: 0x737c57ec5788b68c3a9d0ad3df432805-cursor_p_3D40_p_26set_p_3Dbernensia_p_26metadataPrefix_p_3Doai_dc_p_26batch_size_p_3D11\n",
      "Start retrieving metadata for e-rara IDs  ['7312699', '7312724', '7312733', '7312772', '7312808', '7312854', '7312875', '7398121', '7646616', '7736880']\n",
      "New resumption token: 0x737c57ec5788b68c3a9d0ad3df432805-cursor_p_3D50_p_26set_p_3Dbernensia_p_26metadataPrefix_p_3Doai_dc_p_26batch_size_p_3D11\n",
      "Start retrieving metadata for e-rara IDs  ['8000232', '8122272', '8122285', '8122291', '8142652', '8210077', '8210090', '8389622', '8600128', '8950515']\n",
      "New resumption token: 0x737c57ec5788b68c3a9d0ad3df432805-cursor_p_3D60_p_26set_p_3Dbernensia_p_26metadataPrefix_p_3Doai_dc_p_26batch_size_p_3D11\n",
      "Start retrieving metadata for e-rara IDs  ['8967210', '9044148', '9119508', '9119746', '9119958', '9193428', '9223676', '9279351', '9279515', '9279581']\n",
      "New resumption token: 0x737c57ec5788b68c3a9d0ad3df432805-cursor_p_3D70_p_26set_p_3Dbernensia_p_26metadataPrefix_p_3Doai_dc_p_26batch_size_p_3D11\n",
      "Start retrieving metadata for e-rara IDs  ['9279641', '9279693', '9279769', '9345446', '9507859', '9507941', '9508351', '9603889', '9648757', '9648890']\n",
      "New resumption token: 0x737c57ec5788b68c3a9d0ad3df432805-cursor_p_3D80_p_26set_p_3Dbernensia_p_26metadataPrefix_p_3Doai_dc_p_26batch_size_p_3D11\n",
      "Start retrieving metadata for e-rara IDs  ['9649032', '9649056', '9649076', '9649088', '9649100', '9649108', '9649120', '9649132', '9649144', '9649156']\n",
      "New resumption token: 0x737c57ec5788b68c3a9d0ad3df432805-cursor_p_3D90_p_26set_p_3Dbernensia_p_26metadataPrefix_p_3Doai_dc_p_26batch_size_p_3D11\n",
      "Start retrieving metadata for e-rara IDs  ['9689451', '9689457', '9689469', '9689481', '9689489', '9689497', '9689509', '9689517', '9866245', '9866263']\n",
      "New resumption token: 0x737c57ec5788b68c3a9d0ad3df432805-cursor_p_3D100_p_26set_p_3Dbernensia_p_26metadataPrefix_p_3Doai_dc_p_26batch_size_p_3D11\n",
      "Start retrieving metadata for e-rara IDs  ['9866287', '9866299', '9888043', '9888055', '9888079', '9888087', '9888099', '9888111', '9888123', '9888135']\n",
      "New resumption token: 0x737c57ec5788b68c3a9d0ad3df432805-cursor_p_3D110_p_26set_p_3Dbernensia_p_26metadataPrefix_p_3Doai_dc_p_26batch_size_p_3D11\n",
      "Start retrieving metadata for e-rara IDs  ['9888143', '9888151', '9888167', '9888179', '9888191', '9888199', '10179500', '10347968', '10381638', '10722710']\n",
      "New resumption token: 0x737c57ec5788b68c3a9d0ad3df432805-cursor_p_3D120_p_26set_p_3Dbernensia_p_26metadataPrefix_p_3Doai_dc_p_26batch_size_p_3D11\n",
      "Start retrieving metadata for e-rara IDs  ['10733431', '10826352', '10936692', '10950658', '11025076', '11094313', '11136110', '11136199', '11194499', '11194547']\n",
      "New resumption token: 0x737c57ec5788b68c3a9d0ad3df432805-cursor_p_3D130_p_26set_p_3Dbernensia_p_26metadataPrefix_p_3Doai_dc_p_26batch_size_p_3D11\n",
      "Start retrieving metadata for e-rara IDs  ['11194612', '11194750', '11218655', '11424209', '11622649', '11821799', '11846889', '12310578', '12382612', '12382798']\n",
      "New resumption token: 0x737c57ec5788b68c3a9d0ad3df432805-cursor_p_3D140_p_26set_p_3Dbernensia_p_26metadataPrefix_p_3Doai_dc_p_26batch_size_p_3D11\n",
      "Start retrieving metadata for e-rara IDs  ['12382814', '12382908', '12654722', '12654738', '12654758', '12654764', '12751751', '12903483', '12903503', '12903783']\n",
      "New resumption token: 0x737c57ec5788b68c3a9d0ad3df432805-cursor_p_3D150_p_26set_p_3Dbernensia_p_26metadataPrefix_p_3Doai_dc_p_26batch_size_p_3D11\n",
      "Start retrieving metadata for e-rara IDs  ['13106447', '13193409', '13217374', '13577452', '13655445', '13662507', '13662527', '13730831', '13805570', '13929474']\n",
      "New resumption token: 0x737c57ec5788b68c3a9d0ad3df432805-cursor_p_3D160_p_26set_p_3Dbernensia_p_26metadataPrefix_p_3Doai_dc_p_26batch_size_p_3D11\n",
      "Start retrieving metadata for e-rara IDs  ['14098040', '14432690', '14601403', '14692354', '14732765', '14789642', '14903732', '14903764', '14903781', '14903792']\n",
      "New resumption token: 0x737c57ec5788b68c3a9d0ad3df432805-cursor_p_3D170_p_26set_p_3Dbernensia_p_26metadataPrefix_p_3Doai_dc_p_26batch_size_p_3D11\n",
      "Start retrieving metadata for e-rara IDs  ['14903823', '14903838', '14903847', '14903853', '14978061', '15026415', '15026503', '15026769', '15055158', '15055202']\n",
      "New resumption token: 0x737c57ec5788b68c3a9d0ad3df432805-cursor_p_3D180_p_26set_p_3Dbernensia_p_26metadataPrefix_p_3Doai_dc_p_26batch_size_p_3D11\n",
      "Start retrieving metadata for e-rara IDs  ['15055379', '15055679', '15142351', '15142454', '15170506', '15213334', '15251616', '15251642', '15251671', '15251694']\n",
      "New resumption token: 0x737c57ec5788b68c3a9d0ad3df432805-cursor_p_3D190_p_26set_p_3Dbernensia_p_26metadataPrefix_p_3Doai_dc_p_26batch_size_p_3D11\n",
      "Start retrieving metadata for e-rara IDs  ['15251715', '15251734', '15251745', '15251768', '15251809', '15251816', '15251829', '15251838', '15251847', '15251858']\n",
      "New resumption token: 0x737c57ec5788b68c3a9d0ad3df432805-cursor_p_3D200_p_26set_p_3Dbernensia_p_26metadataPrefix_p_3Doai_dc_p_26batch_size_p_3D11\n",
      "Start retrieving metadata for e-rara IDs  ['15251867', '15251874', '15251882', '15251890', '15251899', '15251908', '15251917', '15251926', '15251956', '15251963']\n",
      "New resumption token: 0x737c57ec5788b68c3a9d0ad3df432805-cursor_p_3D210_p_26set_p_3Dbernensia_p_26metadataPrefix_p_3Doai_dc_p_26batch_size_p_3D11\n",
      "Start retrieving metadata for e-rara IDs  ['15251971', '15251979', '15333662', '15463083', '15651573', '15874191', '15875583', '15875976', '15916138', '15916263']\n",
      "New resumption token: 0x737c57ec5788b68c3a9d0ad3df432805-cursor_p_3D220_p_26set_p_3Dbernensia_p_26metadataPrefix_p_3Doai_dc_p_26batch_size_p_3D11\n",
      "Start retrieving metadata for e-rara IDs  ['15916292', '16058751', '16383304', '16462631', '16485496', '16723295', '16783603', '16817413', '16830696', '16873951']\n",
      "New resumption token: 0x737c57ec5788b68c3a9d0ad3df432805-cursor_p_3D230_p_26set_p_3Dbernensia_p_26metadataPrefix_p_3Doai_dc_p_26batch_size_p_3D11\n",
      "Start retrieving metadata for e-rara IDs  ['16891810', '16962119', '17015718', '17030908', '17030965', '17031104', '17298646', '17298689', '17647088', '17647120']\n",
      "New resumption token: 0x737c57ec5788b68c3a9d0ad3df432805-cursor_p_3D240_p_26set_p_3Dbernensia_p_26metadataPrefix_p_3Doai_dc_p_26batch_size_p_3D11\n",
      "Start retrieving metadata for e-rara IDs  ['17647157', '17647274', '17647415', '17658388', '17717278', '17768082', '17768092', '17768104', '17768119', '17768132']\n",
      "New resumption token: 0x737c57ec5788b68c3a9d0ad3df432805-cursor_p_3D250_p_26set_p_3Dbernensia_p_26metadataPrefix_p_3Doai_dc_p_26batch_size_p_3D11\n",
      "Start retrieving metadata for e-rara IDs  ['17996363', '17996385', '18047419', '18047508', '18047597', '18047662', '18047771', '18047864', '18047957', '18048050']\n",
      "New resumption token: 0x737c57ec5788b68c3a9d0ad3df432805-cursor_p_3D260_p_26set_p_3Dbernensia_p_26metadataPrefix_p_3Doai_dc_p_26batch_size_p_3D11\n",
      "Start retrieving metadata for e-rara IDs  ['18048099', '18048109', '18048117', '18048170', '18055578', '18055594', '18055607', '18055619', '18055639', '18108163']\n",
      "New resumption token: 0x737c57ec5788b68c3a9d0ad3df432805-cursor_p_3D270_p_26set_p_3Dbernensia_p_26metadataPrefix_p_3Doai_dc_p_26batch_size_p_3D11\n",
      "Start retrieving metadata for e-rara IDs  ['18108168', '18344574', '18831419', '18831629', '19457887', '19458565', '19510628', '19510733', '19510757', '19614225']\n",
      "New resumption token: 0x737c57ec5788b68c3a9d0ad3df432805-cursor_p_3D280_p_26set_p_3Dbernensia_p_26metadataPrefix_p_3Doai_dc_p_26batch_size_p_3D11\n",
      "Start retrieving metadata for e-rara IDs  ['19614231', '19614237', '19614243', '19614250', '19614256', '19614263', '19614269', '19614275', '19614281', '19614287']\n",
      "New resumption token: 0x737c57ec5788b68c3a9d0ad3df432805-cursor_p_3D290_p_26set_p_3Dbernensia_p_26metadataPrefix_p_3Doai_dc_p_26batch_size_p_3D11\n",
      "Start retrieving metadata for e-rara IDs  ['19614293', '19614299', '19614305', '19614312', '19614318', '19614324', '19614330', '19614335', '19614342', '19614348']\n",
      "New resumption token: 0x737c57ec5788b68c3a9d0ad3df432805-cursor_p_3D300_p_26set_p_3Dbernensia_p_26metadataPrefix_p_3Doai_dc_p_26batch_size_p_3D11\n",
      "Start retrieving metadata for e-rara IDs  ['19614354', '19614360', '19614367', '19614373', '19614379', '19614385', '20004520', '20143353', '20150139', '20150143']\n",
      "New resumption token: 0x737c57ec5788b68c3a9d0ad3df432805-cursor_p_3D310_p_26set_p_3Dbernensia_p_26metadataPrefix_p_3Doai_dc_p_26batch_size_p_3D11\n",
      "Start retrieving metadata for e-rara IDs  ['20150147', '20150151', '20150156', '20150160', '20150164', '20150168', '20150172', '20150176', '20150181', '20150185']\n",
      "New resumption token: 0x737c57ec5788b68c3a9d0ad3df432805-cursor_p_3D320_p_26set_p_3Dbernensia_p_26metadataPrefix_p_3Doai_dc_p_26batch_size_p_3D11\n",
      "Start retrieving metadata for e-rara IDs  ['20150189', '20150194', '20150199', '20150203', '20150207', '20150211', '20150215', '20150219', '20150223', '20150227']\n",
      "New resumption token: 0x737c57ec5788b68c3a9d0ad3df432805-cursor_p_3D330_p_26set_p_3Dbernensia_p_26metadataPrefix_p_3Doai_dc_p_26batch_size_p_3D11\n",
      "Start retrieving metadata for e-rara IDs  ['20150231', '20150235', '20150240', '20150244', '20150248', '20150252', '20150256', '20150260', '20150264', '20150269']\n",
      "New resumption token: 0x737c57ec5788b68c3a9d0ad3df432805-cursor_p_3D340_p_26set_p_3Dbernensia_p_26metadataPrefix_p_3Doai_dc_p_26batch_size_p_3D11\n",
      "Start retrieving metadata for e-rara IDs  ['20150274', '20150278', '20150281', '20150285', '20150289', '20150293', '20150297', '20150301', '20150305', '20150309']\n",
      "New resumption token: 0x737c57ec5788b68c3a9d0ad3df432805-cursor_p_3D350_p_26set_p_3Dbernensia_p_26metadataPrefix_p_3Doai_dc_p_26batch_size_p_3D11\n",
      "Start retrieving metadata for e-rara IDs  ['20150314', '20150318', '20150322', '20150326', '20150330', '20150334', '20150342', '20150355', '20164496', '20291578']\n",
      "New resumption token: 0x737c57ec5788b68c3a9d0ad3df432805-cursor_p_3D360_p_26set_p_3Dbernensia_p_26metadataPrefix_p_3Doai_dc_p_26batch_size_p_3D11\n",
      "Start retrieving metadata for e-rara IDs  ['20313901', '20318803', '20398262', '20398332', '20468865', '20487407', '20487427', '20530096', '20530233', '20535963']\n",
      "New resumption token: 0x737c57ec5788b68c3a9d0ad3df432805-cursor_p_3D370_p_26set_p_3Dbernensia_p_26metadataPrefix_p_3Doai_dc_p_26batch_size_p_3D11\n",
      "Start retrieving metadata for e-rara IDs  ['20549544', '20549572', '20590225', '20590231', '20646665', '20646790', '20812646', '20812807', '20856612', '20865169']\n",
      "New resumption token: 0x737c57ec5788b68c3a9d0ad3df432805-cursor_p_3D380_p_26set_p_3Dbernensia_p_26metadataPrefix_p_3Doai_dc_p_26batch_size_p_3D11\n",
      "Start retrieving metadata for e-rara IDs  ['20888131', '20888292', '20911909', '21050854', '21051618', '21103894', '21327373', '21327393', '21388337', '21388349']\n",
      "New resumption token: 0x737c57ec5788b68c3a9d0ad3df432805-cursor_p_3D390_p_26set_p_3Dbernensia_p_26metadataPrefix_p_3Doai_dc_p_26batch_size_p_3D11\n",
      "Start retrieving metadata for e-rara IDs  ['21388361', '21388382', '21459983', '21460097', '21522556', '21594207', '21614611', '21614667', '21614692', '21614708']\n",
      "New resumption token: 0x737c57ec5788b68c3a9d0ad3df432805-cursor_p_3D400_p_26set_p_3Dbernensia_p_26metadataPrefix_p_3Doai_dc_p_26batch_size_p_3D11\n",
      "Start retrieving metadata for e-rara IDs  ['21614727', '21614756', '21614792', '21614808', '21624098', '21624126', '21627894', '21627918', '21627939', '21635228']\n",
      "New resumption token: 0x737c57ec5788b68c3a9d0ad3df432805-cursor_p_3D410_p_26set_p_3Dbernensia_p_26metadataPrefix_p_3Doai_dc_p_26batch_size_p_3D11\n",
      "Start retrieving metadata for e-rara IDs  ['21635235', '21635314', '21645217', '21663045', '21665324', '21731788', '21731794', '21731801', '21731807', '21731813']\n",
      "New resumption token: 0x737c57ec5788b68c3a9d0ad3df432805-cursor_p_3D420_p_26set_p_3Dbernensia_p_26metadataPrefix_p_3Doai_dc_p_26batch_size_p_3D11\n",
      "Start retrieving metadata for e-rara IDs  ['21731819', '21731825', '21731833', '21731840', '21745430', '21773225', '21868369', '21882661', '21903055', '21916127']\n",
      "New resumption token: 0x737c57ec5788b68c3a9d0ad3df432805-cursor_p_3D430_p_26set_p_3Dbernensia_p_26metadataPrefix_p_3Doai_dc_p_26batch_size_p_3D11\n",
      "Start retrieving metadata for e-rara IDs  ['21942314', '22052356', '22194398', '22197630', '22198262', '22253810', '22543213', '22543347', '22543408', '22562442']\n",
      "New resumption token: 0x737c57ec5788b68c3a9d0ad3df432805-cursor_p_3D440_p_26set_p_3Dbernensia_p_26metadataPrefix_p_3Doai_dc_p_26batch_size_p_3D11\n",
      "Start retrieving metadata for e-rara IDs  ['22562580', '22562653', '22562679', '22562760', '22562783', '22598109', '22598152', '22598200', '22598342', '22598369']\n",
      "New resumption token: 0x737c57ec5788b68c3a9d0ad3df432805-cursor_p_3D450_p_26set_p_3Dbernensia_p_26metadataPrefix_p_3Doai_dc_p_26batch_size_p_3D11\n",
      "Start retrieving metadata for e-rara IDs  ['22598413', '22598462', '22615000', '22615057', '22615062', '22615066', '22615071', '22615076', '22660670', '22660710']\n",
      "New resumption token: 0x737c57ec5788b68c3a9d0ad3df432805-cursor_p_3D460_p_26set_p_3Dbernensia_p_26metadataPrefix_p_3Doai_dc_p_26batch_size_p_3D11\n",
      "Start retrieving metadata for e-rara IDs  ['22677170', '22677223', '22732218', '22732246', '22742131', '22770557', '22843374', '22923858', '23043819', '23095577']\n",
      "New resumption token: 0x737c57ec5788b68c3a9d0ad3df432805-cursor_p_3D470_p_26set_p_3Dbernensia_p_26metadataPrefix_p_3Doai_dc_p_26batch_size_p_3D11\n",
      "Start retrieving metadata for e-rara IDs  ['23108897', '23109041', '23109118', '23149274', '23178549', '23198829', '23199028', '23211956', '23211991', '23306869']\n",
      "New resumption token: 0x737c57ec5788b68c3a9d0ad3df432805-cursor_p_3D480_p_26set_p_3Dbernensia_p_26metadataPrefix_p_3Doai_dc_p_26batch_size_p_3D11\n",
      "Start retrieving metadata for e-rara IDs  ['23307079', '23397694', '23398216', '23563758', '23564124', '23564293', '23564375', '23590020', '23623355', '23737732']\n",
      "New resumption token: 0x737c57ec5788b68c3a9d0ad3df432805-cursor_p_3D490_p_26set_p_3Dbernensia_p_26metadataPrefix_p_3Doai_dc_p_26batch_size_p_3D11\n",
      "Start retrieving metadata for e-rara IDs  ['23784431', '23784436', '23784441', '23784447', '23784452', '23935922', '23935928', '23935933', '23967369', '24590106']\n",
      "New resumption token: 0x737c57ec5788b68c3a9d0ad3df432805-cursor_p_3D500_p_26set_p_3Dbernensia_p_26metadataPrefix_p_3Doai_dc_p_26batch_size_p_3D11\n",
      "Start retrieving metadata for e-rara IDs  ['24590263', '24760497', '24760503', '24760509', '24767312', '24767317', '24786898', '24786903', '24786909', '24786915']\n",
      "New resumption token: 0x737c57ec5788b68c3a9d0ad3df432805-cursor_p_3D510_p_26set_p_3Dbernensia_p_26metadataPrefix_p_3Doai_dc_p_26batch_size_p_3D11\n",
      "Start retrieving metadata for e-rara IDs  ['24786921', '24786927', '24786933', '24786939', '24786945', '24786951', '24786957', '24786963', '24786969', '25284095']\n",
      "New resumption token: 0x737c57ec5788b68c3a9d0ad3df432805-cursor_p_3D520_p_26set_p_3Dbernensia_p_26metadataPrefix_p_3Doai_dc_p_26batch_size_p_3D11\n",
      "Start retrieving metadata for e-rara IDs  ['25381212', '25431251', '25431259', '25503148', '25503154', '25503160', '25503167', '25503173', '25503214', '25503263']\n",
      "New resumption token: 0x737c57ec5788b68c3a9d0ad3df432805-cursor_p_3D530_p_26set_p_3Dbernensia_p_26metadataPrefix_p_3Doai_dc_p_26batch_size_p_3D11\n",
      "Start retrieving metadata for e-rara IDs  ['25503358', '25503367', '25503374', '25503381', '25503394', '25503447', '25503453', '25503721', '25506544', '25506550']\n",
      "New resumption token: 0x737c57ec5788b68c3a9d0ad3df432805-cursor_p_3D540_p_26set_p_3Dbernensia_p_26metadataPrefix_p_3Doai_dc_p_26batch_size_p_3D11\n",
      "Start retrieving metadata for e-rara IDs  ['25506556', '25506587', '25528690', '25528749', '25631267', '25631315', '25631340', '25631357', '25631402', '25680978']\n",
      "New resumption token: 0x737c57ec5788b68c3a9d0ad3df432805-cursor_p_3D550_p_26set_p_3Dbernensia_p_26metadataPrefix_p_3Doai_dc_p_26batch_size_p_3D11\n",
      "Start retrieving metadata for e-rara IDs  ['25680991', '25757219', '25757232', '25757245', '25757258', '25757279', '25759025', '25759049', '25759080', '25759101']\n",
      "New resumption token: 0x737c57ec5788b68c3a9d0ad3df432805-cursor_p_3D560_p_26set_p_3Dbernensia_p_26metadataPrefix_p_3Doai_dc_p_26batch_size_p_3D11\n",
      "Start retrieving metadata for e-rara IDs  ['25759114', '25761996', '25762124', '25762155', '25762176', '25762189', '25818410', '25818416', '25818429', '25818458']\n",
      "New resumption token: 0x737c57ec5788b68c3a9d0ad3df432805-cursor_p_3D570_p_26set_p_3Dbernensia_p_26metadataPrefix_p_3Doai_dc_p_26batch_size_p_3D11\n",
      "Start retrieving metadata for e-rara IDs  ['25890714']\n",
      "Reached end of IDs/results list\n",
      "571 metadata files in /home/jovyan/xml-from_oai-e-rara\n",
      "Finished in 64.51 second(s)\n"
     ]
    }
   ],
   "source": [
    "retrieve_set_metadata('bernensia', 'xml-from_oai-e-rara', metadataPrefix='oai_dc')"
   ]
  },
  {
   "cell_type": "markdown",
   "id": "c28672cd",
   "metadata": {},
   "source": [
    "### Upload to AWS S3"
   ]
  },
  {
   "cell_type": "code",
   "execution_count": 27,
   "id": "1be8dbdc",
   "metadata": {},
   "outputs": [
    {
     "name": "stdout",
     "output_type": "stream",
     "text": [
      "bgd-content\n",
      "bgd-test-content\n"
     ]
    }
   ],
   "source": [
    "s3 = boto3.resource('s3')\n",
    "for bucket in s3.buckets.all():\n",
    "    print(bucket.name)"
   ]
  },
  {
   "cell_type": "code",
   "execution_count": 37,
   "id": "042c4678",
   "metadata": {},
   "outputs": [],
   "source": [
    "# from: https://boto3.amazonaws.com/v1/documentation/api/latest/guide/s3-examples.html\n",
    "import logging\n",
    "from botocore.exceptions import ClientError\n",
    "\n",
    "def upload_file(file_name, bucket, object_name=None):\n",
    "    \"\"\"Upload a file to an S3 bucket\n",
    "\n",
    "    :param file_name: File to upload\n",
    "    :param bucket: Bucket to upload to\n",
    "    :param object_name: S3 object name. If not specified then file_name is used\n",
    "    :return: True if file was uploaded, else False\n",
    "    \"\"\"\n",
    "\n",
    "    # If S3 object_name was not specified, use file_name\n",
    "    if object_name is None:\n",
    "        object_name = os.path.basename(file_name)\n",
    "\n",
    "    # Upload the file\n",
    "    s3_client = boto3.client('s3')\n",
    "    try:\n",
    "        response = s3_client.upload_file(file_name, bucket, object_name)\n",
    "    except ClientError as e:\n",
    "        logging.error(e)\n",
    "        return False\n",
    "    return True"
   ]
  },
  {
   "cell_type": "code",
   "execution_count": 183,
   "id": "c3e6dc2e",
   "metadata": {},
   "outputs": [
    {
     "data": {
      "text/plain": [
       "True"
      ]
     },
     "execution_count": 183,
     "metadata": {},
     "output_type": "execute_result"
    }
   ],
   "source": [
    "# Test: Upload a file to S3 with boto3\n",
    "upload_file(file_name='xml-from_oai-e-rara/10179500.xml', bucket='bgd-content', \\\n",
    "            object_name='bernensia-xml/10179500.xml')"
   ]
  },
  {
   "cell_type": "code",
   "execution_count": 38,
   "id": "e7e9b459",
   "metadata": {},
   "outputs": [
    {
     "data": {
      "text/plain": [
       "True"
      ]
     },
     "execution_count": 38,
     "metadata": {},
     "output_type": "execute_result"
    }
   ],
   "source": [
    "for file in os.listdir('xml-from_oai-e-rara'):\n",
    "    upload_file(file_name='xml-from_oai-e-rara/{}'.format(file), bucket='bgd-content', \\\n",
    "                object_name='bernensia-xml/{}'.format(file))"
   ]
  },
  {
   "cell_type": "code",
   "execution_count": 43,
   "id": "ccd28a5a",
   "metadata": {},
   "outputs": [
    {
     "name": "stdout",
     "output_type": "stream",
     "text": [
      "572\n"
     ]
    },
    {
     "data": {
      "text/plain": [
       "['bernensia-xml/',\n",
       " 'bernensia-xml/10179500.xml',\n",
       " 'bernensia-xml/10347968.xml',\n",
       " 'bernensia-xml/10381638.xml',\n",
       " 'bernensia-xml/10722710.xml']"
      ]
     },
     "execution_count": 43,
     "metadata": {},
     "output_type": "execute_result"
    }
   ],
   "source": [
    "response = s3.list_objects(Bucket='bgd-content', MaxKeys=1000, \\\n",
    "                           Prefix='bernensia-xml/')    #bernensia-json-fulltext/\n",
    "print(len(response['Contents']))\n",
    "keys = []\n",
    "for i in response['Contents'][0:5]:\n",
    "    keys.append(i['Key'])\n",
    "keys"
   ]
  },
  {
   "cell_type": "markdown",
   "id": "4f7b2df4",
   "metadata": {},
   "source": [
    "## Transform XML file to JSON"
   ]
  },
  {
   "cell_type": "markdown",
   "id": "13522ad1",
   "metadata": {},
   "source": [
    "### Transform e-rara XML to JSON with inserting full texts - local"
   ]
  },
  {
   "cell_type": "code",
   "execution_count": 52,
   "id": "4b59c4f6",
   "metadata": {},
   "outputs": [],
   "source": [
    "# make JSON file from e-rara XML file via dict\n",
    "path = 'xml-from_oai-e-rara/'\n",
    "\n",
    "for file in os.listdir(path):\n",
    "    if file.endswith('.xml'):\n",
    "        with open(path + file, 'r') as file:\n",
    "            obj = xmltodict.parse(file.read())\n",
    "            identifier = obj['html']['body']['oai-pmh']['getrecord']['record']['header']['identifier']\n",
    "           \n",
    "            # identifier for e-periodica XML\n",
    "            #identifier = identifier.replace(':', r'_')\n",
    "            \n",
    "            # identifier for e-rara XML\n",
    "            match = re.search('oai:www.e-rara.ch:(\\d+)', identifier)      # extract the number following 'oai:www.e-rara.ch:'\n",
    "            if match:\n",
    "                identifier = match.group(1)     # first parenthesized subgroup of group() = number\n",
    "                \n",
    "            # read out metadata, delete certain fields and add'id-intern' field\n",
    "            metadata = obj['html']['body']['oai-pmh']['getrecord']['record']['metadata']['oai_dc:dc']\n",
    "            del_fields = ['@xmlns:dc', '@xmlns:oai_dc', '@xmlns:xsi', '@xsi:schemalocation']\n",
    "            [metadata.pop(field) for field in del_fields]\n",
    "            metadata.update({\"id_intern\": identifier})\n",
    "            \n",
    "            dic_new = {}\n",
    "            for key in metadata.keys():\n",
    "                match = re.search('dc:(\\w+)', key)      # extract field names without 'dc_' beginning\n",
    "                if match:\n",
    "                    key_new = match.group(1)     # first parenthesized subgroup of group() = content\n",
    "                else: \n",
    "                    key_new = key\n",
    "                #key_new = key.replace(':', r'_')    # easier alternative to get rid of ':'\n",
    "                value = metadata.get(key)\n",
    "                dic_new.update({key_new: value})\n",
    "                \n",
    "            # insert fulltext\n",
    "            try:\n",
    "                with open('content/raw/fulltext/mix_erara_bernensia/' + identifier + '.txt', 'r') as file:\n",
    "                    fulltext = file.read()\n",
    "                dic_new['fulltext'] = fulltext\n",
    "            except: pass\n",
    "            \n",
    "            dump = json.dumps(dic_new)\n",
    "            with open('content/processed/bernensia_json_fulltext/' + identifier +'.json', 'w', encoding='UTF-8') as file:\n",
    "                file.write(dump)\n",
    "    else: pass\n"
   ]
  },
  {
   "cell_type": "code",
   "execution_count": 53,
   "id": "e6467246",
   "metadata": {},
   "outputs": [
    {
     "data": {
      "text/plain": [
       "{'title': 'Flora von Bern : systematische Uebersicht der in der Gegend von Bern wildwachsenden und allgemein cultivirten Phanerogamen und GefÃ¤sskryptogamen',\n",
       " 'creator': 'Fischer, Ludwig',\n",
       " 'subject': 'Pflanzen',\n",
       " 'description': ['von Dr. L. Fischer',\n",
       "  'Mit einer Karte (Abdruck aus der topographischen Karte der Schweiz von G.H. Dufour'],\n",
       " 'publisher': 'KÃ¶rber',\n",
       " 'date': '1897',\n",
       " 'type': ['Text', 'Book'],\n",
       " 'format': 'XXXVI, 309 Seiten, 1 gefaltetes Blatt mit Bildtafel : 1 Karte',\n",
       " 'identifier': ['doi:10.3931/e-rara-83285',\n",
       "  'https://www.e-rara.ch/bes_1/doi/10.3931/e-rara-83285',\n",
       "  'system:99116798113805511'],\n",
       " 'relation': 'vignette : https://www.e-rara.ch/bes_1/titlepage/doi/10.3931/e-rara-83285/128',\n",
       " 'language': 'ger',\n",
       " 'coverage': '580',\n",
       " 'rights': 'pdm',\n",
       " 'id_intern': '23563758'}"
      ]
     },
     "execution_count": 53,
     "metadata": {},
     "output_type": "execute_result"
    }
   ],
   "source": [
    "# Check e-rara JSON example without fulltext\n",
    "with open('content/processed/bernensia_json_fulltext/23563758.json') as f:\n",
    "  dic = json.load(f)\n",
    "dic"
   ]
  },
  {
   "cell_type": "code",
   "execution_count": 65,
   "id": "cc9b00c2",
   "metadata": {},
   "outputs": [
    {
     "data": {
      "text/plain": [
       "571"
      ]
     },
     "execution_count": 65,
     "metadata": {},
     "output_type": "execute_result"
    }
   ],
   "source": [
    "len(os.listdir('content/processed/bernensia_json_fulltexts/'))"
   ]
  },
  {
   "cell_type": "code",
   "execution_count": 61,
   "id": "fe1856df",
   "metadata": {},
   "outputs": [
    {
     "data": {
      "text/plain": [
       "'https://www.e-rara.ch/bes_1/doi/10.3931/e-rara-47605'"
      ]
     },
     "execution_count": 61,
     "metadata": {},
     "output_type": "execute_result"
    }
   ],
   "source": [
    "# Check e-rara JSON example with fulltext\n",
    "with open('content/processed/bernensia_json_fulltext/13217374.json') as f:\n",
    "  dic = json.load(f)\n",
    "#dic\n",
    "#print(dic['fulltext'])\n",
    "dic['identifier'][1]"
   ]
  },
  {
   "cell_type": "code",
   "execution_count": 38,
   "id": "fda65d41",
   "metadata": {},
   "outputs": [
    {
     "data": {
      "text/plain": [
       "{'title': 'Der  Familie Ziegler demÃ¼thige und unterthÃ¤nigste Bittschrift',\n",
       " 'creator': '[s.n.]',\n",
       " 'description': ['Beylag No. 1 : Extract aus dem Raths-Manual der Stadt Bern (1636). Beylag No. 2 : ; Copia Schreibens Mrghhrn. der RÃ¤the an die Stadt MÃ¼llhausen (1644). Beylag No. 3 : ; Artikel in der gedrukten Abzug-Ordnung (1644). Beylag No. 4 : ; Auszug aus dem deutschen Missiven-Buch der Stadt Bern: Der Stadt MÃ¼llhausen reciprocierliches Antwort-Schreiben des Abzugs halben ; Vortrag der Familie Ziegler an meine ... Herren der Burger-Cammer',\n",
       "  'Antrag der Familie Ziegler an die Berner Obrigkeit, um das Berner Burgerrecht zu erlangen'],\n",
       " 'publisher': '[Verlag nicht ermittelbar]',\n",
       " 'date': '1775',\n",
       " 'type': ['Text', 'Book'],\n",
       " 'format': '16 S. ; 36 cm',\n",
       " 'identifier': ['doi:10.3931/e-rara-7826',\n",
       "  'https://www.e-rara.ch/bes_1/doi/10.3931/e-rara-7826',\n",
       "  'system:99116894928805511'],\n",
       " 'relation': 'vignette : https://www.e-rara.ch/bes_1/titlepage/doi/10.3931/e-rara-7826/128',\n",
       " 'language': 'ger',\n",
       " 'coverage': 'Bern',\n",
       " 'rights': 'pdm',\n",
       " 'id_intern': '2069554',\n",
       " 'II- Varia. A 7 3i4 V\\'—\\', L^.^aa : \\'<£\\n\\n«n,,\\n\\nDer Laupenkrleg 1339 ^r>°\" Dr. lur. 5- marftroalder f Stadtscfjreiber von Bern •dJ f liißUOTHECA\\\\ RER^cNSISj F~)  f *>S, : Festgabe des Organlsatwns-Kointtees der Caupensd)lad)tfeier 1939 // i/*y v ^2\\n\\n• IHM AM II fei > • * A 4 M. L-^ ■’ \\'V ‘ Schioh und Städtchen Caupen Nach ftauin O,-S»K! EU •» -i 3S«5V Die plliierten schicken den Bernern den pbsagebrief\\n\\nBus der Qelchlchte der Dorfabren lerne Schmelzer werden 1. Die politisch-militärische entwicklung der Stadt Bern bis zum Caupenkrieg e Gründung der Stadt Bern fällt nach der Cronlca de Berno *), der ältesten, In lateinischer Sprache geschriebenen geschichtlichen Aufzeichnung über Bern in das )ahr 1191. Herzog Berchtold v. von Zähringen verfolgte mit dieser Stadtgründung oder — nach der Überlieferung des Ehroniften valerius Anshelm — mit der Erweiterung eines damals im Bereiche der Burg Hydecft gelegenen Örtchens sowohl militärische als auch wirtschaftliche und verkehrspoli- tifche Ziele. Die Zähringer stammen aus Süddeutfchland, von wo aus sie unter Aus- nühung der politischen kämpfe des XII. lahrhundetts ihre Macht und ihr Herrschaftsgebiet nach Süden, vom khein nach der Ahone und dem Genferfee, unter Einschluß des Mittellandes und Alpenvorlandes, ausdehnten. Dabei gerieten sie naturgemäß mit den dortigen Adeligen und Grundherren in kriegerische Verwicklung, was sie dazu zwang, ihr oor- \\' Diese Chronik Ist enthalten auf den hintersten Blattern des Im Jahre 1325 angelegten Jahrzeltenbuches des St. DInzenzenmünsterö In Bern und enthalt Aufzeichnungen über die Jahre 1191—1340. 3\\n\\ngeschobenes Herrschaftsgebiet durch feste Plätze zu sichern; so entstanden freiburg im Lichtland, Ihun, vurgdork, Laupen und Murten. Als verchtold V. keine welschen Widersacher 1190 bei Payerne und seine oberiändikchen feinde 1191 bei Grindelwald geschlagen hatte, galt es, ein weiteres vollwerk gegen den feindlichen Westen und Süden zu er- richten und gleichzeitig eine engere Verbindung der Lähringerstädte vurgdorf und freiburg herbeizuführen. Nach der Sage war es kuno aus dem Geschlechte derer von vubenberg, der die bisherige Siedelung bei der vurg Nydeck auf voden des Deiches bis hinauf zum Leitglocken erweiterte, wo stch damals eine tiefe Schlucht quer durch die flarehalbinfei zog, in der leit dem XIV. jahrhundert die Gerber ihr Handwerk ausübten und die deshalb feit jener Zeit als Gerberngraben bezeichnet wurde. Längs dieser Schlucht wurde die erste westseitige Ringmauer mit dem Leitglockenturm als Stadtausgang erstellt. Nicht nur vauern und Handwerker, sondern auch zahlreiche Adelige aus der Umgebung zogen in die Stadt und erwarben zu vorteil- hakten vedingungen Grund und voden und damit auch das vürgerrecht der jungen 23hringerstadt. Ganz besondere vedeutung hatte die Ausnahme in der Stadt kür bisher Unfreie, denen nach dem damals geltenden Grundsatz «Stadtluft macht frei\" freiheit und Unabhängigkeit von ihrem bisherigen Lehensherrn zugesichert und verbürgt wurde. Autzer dem vaugrund innerhalb der Mauern der Stadt wurden ihren vürgem auch das feid und der Waid in ihrer nächsten Umgebung als Allmend, wie wir das heute noch in vielen bernischen Gemeinden kennen, zur Nutzung überlassen. Unter dem kraftvollen und zieibewutzten Regiment verchtolds v. entwickelte stch vern ralch zu einem lebenskräftigen Gemeinwesen. Sein Markt war kür die zahlreichen Siedelungen der Umgebung, wie wank- dorf, Sulgen, Optingen, vümpliz, Muri, worblauken ukw., an die zum feil noch heutige Namen einzelner Stadtquartiere erinnem, von groher vedeutung, und die Stadt wurde bald zu einem wichtigen Rastort im fernverkehr jener Zeit. Lider die innere und äuhere Lntwicklung der Stadt bis zu dem im jähre 1218 erfolgten hinscheide verchtolds V. liegt keine kichere Kunde vor; 4\\n\\ndagegen wird durch den Chronisten Conrad Justinger *) überliefert, dah Bern damals kirchlich zu ßönlz gehörte und dem Bischof von Lausanne abgabepflichtig war. Mit dem Jode Berchtoids V., der keine Nachkommen hinteriieh, Net die 5tadt Bern als zähringische Gründung auf Neichsboden Kraft lehens- rechtiicher Überlieferung an das Kelch und wurde bald darauf freie Reichsstadt unter kaiserlichem Schutz, weich bedeutende Stellung Bern schon damals einnahm, mag daraus ersehen werden, dah das Kloster jnterlaken durch königliches Mandat unter ihren Schutz und Schirm gestellt wurde. In den zähringischen Hausbesitz teilten sich die SchwSger Berchtoids V.. Graf Ego von llrach und Graf Ulrich von Ryburg. fln die Familie von llrach fiel der süddeutsche zähringische Cigenbesih, während die kyburger ihre Stammlande im Jhurgau und 2ürichgau durch die zähringische Erbschaft bis an die Saane, mit Frelburg als westlichem Bollwerk, erweiterten, was vor allem für die Stadt Bern bedeutungsvoll werden sollte. Begünstigt durch die Lähmung der kaiserlichen Macht in den kämpfen mit Papst Innozenz IV. und das nach dem Tode Kaiser Friedrichs II. mit dem voppelkönigtum einsetzende Interregnum, suchten die ßyburger ihre Hausmacht zu festigen und ihr Hoheitsgebiet weiter auszudehnen, wobei neben Laupen und Murten auch das aufstrebende Bern das Ziel ihrer kriegerischen Unternehmungen war. justtnger weih zu berichten, dah wegen des Baus der Unterthorbrücke, die die kyburger als Übergang auf ihr Gebiet verhindern wollten, und wegen anderer Mihhellig- keiten eine heftige Fehde heraufbeschworen wurde, durch die sich Bern gefährlich bedroht sah. Ohne FlusNcht auf des Kelches Schutz und Schirm suchte Bern in seiner Notlage flnlebnung und Hilfe bei dem mächtigen * Der Chronist Conrad Justinger stammte aus Rottroeil. Don 1390—1431 befand er sld) in Bern, wo er zuerst als Schreiber der Stadthanzlei, dann 1400 als Stadtschreiber und später als Notar tätig war. 1431 zog er nach Zllrich, wo er 1438 starb. Nachdem Justlnger zuerst auf der Grundlage der Rönigshofen-Chronik eine private Darstellung der Geschichte der Stadt Bern bis 1420, die sogenannte anonyme Stadt» chtonik versaht hatte, erhielt er am 22. Juli 1420 vorn Rat den fluftrag, die Stadtgeschichte zu schreiben. €r kam dem fluftrag nach, indem er feine erste flrbeit zur )uftinger=Stadtd)ronlk ausgestaltete, die mit dem lahre 1425 abschließt. Seine Quellen waren die Cronica de Bemo, der Conflictus Laupensis, eine zeitgenössische Beschreibung des Caupenkrleges, Königshöfen, eine Basier» und die Stadtchrvnik von Zllrich, sowie „underwilung alter gelobfamer löten“ und Urkunden „us der Stat Risten“ (Stadtarchiv). 5\\n\\nGrafen Peter von Saooyen, der, vom Genfersee vordringend, sich die rDaadt und das Greyerzerland unterworfen hatte und als mächtiger Nachbar die ftyburger im Schache hielt. Unter der Willensstärken, klugen Führung Peters kam es zu einem glücklichen frieden, der sowohl für Bern, als auch für Saooyen von Vorteil war und eine weitere gedeihliche Entwicklung der jungen Stadt gewährleistete. Mit Unterstützung Peters wurde 1256 die Stadt bis zum Käfigturm erweitert; auch die Unterthorbrücke konnte unter feinem Schutz fertiggestellt werden, vas Verhältnis der Stadt zu ihrem neuen Schutz- und Schirmherrn war ein so gutes gewesen, datz, als Peter im Mai 1268, ohne männliche Nachkommen zu hinterlassen, das Zeitliche segnete, Bern ohne Bedenken mit feinem Bruder Philipp, feinem testamentarischen Nachfolger in der Grafschaft Savoyen, am 8. September 1268 einen neuen Schirmvertrag ab» schloß, eine der für die folgenden politischen Ereignisse wichtigsten flb- machungen dieser Uebereinkunft ermöglichte die Rückkehr Berns unter die unmittelbare Schirmherrschaft des Reiches, wie das auch schon im Vertrag mit dem Grafen Peter vorgesehen war. Mittlerweile waren auch die letzten männlichen Vertreter der kyburger, Graf Bartmann der ältere und fein Neffe Bartmann der jüngere gestorben, um deren erbe neue kämpfe entbrannten, aus denen das Baus Babsburg als Sieger hervorgegangen ist. Rudolf von Babsburg, ein Landgraf aus der Oftfchweiz, besah ausgedehnte Ländereien im elfah, im Breisgau sowie im flargau, wo sich die Stammburg der Babsburger und ihr zu Beginn des XI. jahrhunderts gegründetes familienklofter Muri befinden, weitem großen Gebiets» Zuwachs brachte dem Baute Babsburg das erbe der kyburger, so den Tburgau, die Städte frauenfeld, Baden und winterthur usw. fluch die übrigen kyburgifchen Güter wußte der rücksichtslose, gewandte Babsburger feinern Machtbereich zu Nchem, indem er deren Erbin, die lochter Bartmanns des jüngern, flnna, deren Vormund er war, mit feinem Vetter Rudolf aus dem Geschlecht der Babsburg-Laufenburg vermählte, aus deren Verbindung das Baus Neukyburg oder Kyburg-Burgdorf erstanden ist. vurch kauf erwarb er sich flarau und Güter in Schwyz und Obwaiden. 6\\n\\nmit der Erweiterung feiner Stammlande und feines übrigen Machtbereiches hatte sich Rudolf von tzabsburg unter den deutschen Fürsten eine derart angesehene Stellung geschaffen, dah er am 30. September 1273 zu Frankfurt zum deutschen König gewühlt und in flachen gekrönt wurde. Damit erhielt das deutsche Kelch, das während des Interregnums den selbstsüchtigen, auf Bereicherung und Machterweiterung gerichteten Bestrebungen großer und kleiner fldeisgefchiechter ausgesetzt und vorn Untergang bedroht war, wieder eine feste und sichere Führung und Band, die bald auch Bern zu spüren bekommen sollte. Die Botschaft der Königswahl wurde in Bern mit gemischten Gefühlen aufgenommen, da man die gefährliche expansions- und ßaus» politik des neuen Königs kannte und der vorgesehene Grund zur Aufgabe des Schirmvertrages mit Saooyen nun eingetreten war, unter dem die Stadt eine Zeit gedeihlicher Entwicklung durchgemacht hatte. Bern huldigte dem neuen König erst im darauffolgenden Jahre bei flnlah seiner flnwefenheit in Basel. König Rudolf erzeigte Bern seine volle Gunst. €r bestätigte der Stadt am 15. Januar 1274 „in Erwägung der Dienste, welche die Stadt dem Reiche geleistet hat und noch ferner leisten wird\", ihre Rechte und Freiheiten. Jn einem huldvollen Schreiben vorn folgenden läge erläßt der König der Stadt „aus königlicher Müde\" auch alle Erträgnisse, welche sie an Gefallen, Zinsen und Bußen, die dem Reich gehörten, während des Zwifchenreiches bezogen und in ihrem Nutzen verwendet hat. fluch die Hiederlegung der alten Reichsburg Nydeck hatte keine weitem Folgen. Spannungen mit dem neuen König traten erst ein, als Bern die Ausdehnung der habsburgifchen Macht gefährlich zu werden drohte. Durch erzwungenen kauf hatte König Rudolf die alte Zähringerftadt Freiburg im ücbtland an sich gezogen, woraus sich kriegerische Derroicklungen mit dem tzause Saooyen, das er zur Abtretung von Peterlingen, Mutter» und Gümmenen zwang, ergaben. Bei diesen kämpfen muhten die Berner dem König, wenn auch widerwillig, gegen ihren frühern Schirmherrn Beerfoige leisten. Zum offenen Bruch mit dem macht- und länderhung- rigen ßabsburger gab die Erhebung drückender Steuern flnlah, deren 7\\n\\nBezaljlung Bern, wie noch zahlreiche anciere Städte, verweigerte. Die Stadt schloß sich wieder Saooyen an. Der Kriegsfall war gegeben. )m Mai und August 1288 erschien König Rudolf «mit großem Dolk — nach Justlnger sollen es 30 000 Mann gewesen sein — vor Bern. Auf dem Kirchenkeld schlug er sein Lager auf und versuchte unter zwei Malen mit allen ihm zu Gebote stehenden Mitteln, die widerspenstige Stadt zu bezwingen. Es wird uns berichtet, daß er Wurfmaschinen gegen die Mauern in Stellung brachte und durch brennende flöhe die für das Gemeinwesen lebenswichtigen Mühlen zu vernichten suchte. Cs gelang der todesmutigen Tapferkeit der Berner, die von der Liebe zu ihrer Stadt beseelt waren, sämtliche Angriffe des feindlichen Heeres abzuweisen, so daß der König, grollenden Herzens gegen die unbotmäßige Reichsstadt, unverrichteter Dinge von Bern abziehen muhte. Schon im folgenden jähr stand von neuem ein habsburgifcher harst vor den Loren Berns, und es gelang dem Sohn des Königs, herzog Rudolf, die Berner in der Schohhalde überraschend anzugreifen, in einen Hinterhalt zu locken und entscheidend zu schlagen. )n diesem Kampfe zeichnete stch vor allem walo von Greyerz aus. Eine große 2ahl angesehener Berner war auf der Walstatt geblieben, so Angehörige der Geschlechter der Neunhaupte, habstetten, engi, kehrsah, Murzelen ulw^ und auch die Habsburger hatten viele angesehene Kämpfer zu beklagen, unter ihnen den Grafen Ludwig von homberg aus dem Hause frohburg, für dessen Seelenheil die Berner im Kloster wettingen einen Altar errichten und zwei Mönche täglich zwei Metten lesen muhten. Es wird uns überliefert, daß Bern zur ewigen Erinnerung an den blutigen Kampf in der Schohhalde das bisher weihe feld seines Banners abänderte, sodah seither der Bär im roten Felde schreitet, kurz nach diesem für Bern unglücklichen waffengang kam unter Schultheiß Ulrich von Bubenberg mit dem König ein friede zustande, doch blieben bei der ge- demütigten Stadt tiefe Derstimmung und haß gegen die Habsburger zurück. Am 15. lull 1291 starb König Rudolf in seinem 73. Altersjahr zu Germersheim, nachdem es ihm gelungen war, in den 18 jähren seiner Re- 8\\n\\ngierung vor allem feine Familienherrfchaft durch rückNchtslofe flus- nützung feiner Macht zu stärken und auszudehnen. Diese Politik hatte dem Haufe Habsburg in den betroffenen Gebieten, so auch In der Schmelz, eine grofje Gegnerschaft erstehen lassen, die sich mit dem Tode des Königs zu regen begann, Am Dierroaldstätterfee traten 1291 die freien Bauern von Uri, Scbroyz und Untermaiden auf dem Rütli zum Bund roider Habsburg zusammen, und Bern roandte sich in Erinnerung an die glücklichen Zeiten unter Peter und Philipp von Saooyen roieder um Schutz und Schirrn an dieses Grafenbaus, das mit den habs- burgern, als seinen gefährlichsten Rivalen, feit jeher in Fehde stand. Amadeus v., das damalige Haupt des Grafenbaufes, fchloh mit Bern einen neuen Schutz- und Schirrnoertrag, und zmar, roie schon feine Vorgänger, roieder unter dem Vorbehalt der Rückkehr der Stadt unter die Obhut des Reiches bei der Wahl eines neuen deutschen Königs. )n Anerkennung der treuen Gesinnung, die Bern dem Haufe Savoyen gegenüber stets bekundet und mit Rücksicht auf die Brandfchatzung, die die Stadt nach der Niederlage in der Schohhalde erlitten hatte, machte Amadeus v. den Bernern zur Linderung der Not ein Geschenk von 2000 Pfund. )m Reich führte die Abneigung gegen die selbstsüchtige, in erster Linie auf die Ausdehnung der Hausmacht bedachte Regierung des Habsburgers dazu, dah der Sohn Rudolfs, herzog Albrecht, der nächste Anroär- ter auf die deutsche Königskrone, bei der königsmahl Übergängen und zu Beginn des Jahres 1292 Graf Adolf von Nassau zum deutschen König erkoren murde, der als Rivale der Habsburger deren Gegner begünstigte. Ohne Zögern fchloh sich Bern dem neuen König an, mährend sich das benachbarte frelburg, in Verbindung mit den Grafen von Nidau und Greyerz, den Freiherren von weitzenburg und Thurn, dem Bischof von Laufanne und den in Belp angesessenen Freiherren von Montenach, auf die Seite Albrechts stellte, roas zu erbitterter Feindschaft und kriegerischen Unternehmungen zrnifchen den beiden Städten führte. Auf Seite Berns standen die Neukyburger, denen Habsburg einen großen Teil ihrer frühern Besitzungen entrissen hatte; ferner schloffen sich ihnen die Grafen von Aarberg und die Städte Solothurn und Biel an, und über- 9\\n\\ndies konnte Bern auf die waksenhilke der um Bern angesessenen Adeligen, die zum größten Teil In Bern verbürgest waren, zählen. Nach gegenseitigen Brandschatzungen brach im Winter 1297 aus 1298 der offene Kamps aus. Die kreiburgischen Heerhausen erschienen vor Bern „Und als die viend tagend us dem tornbül (Donnerbühl, im Westen der Stadt) und großen gemalt und Mutwillen tribind“ — erzählt die Stadtchronik — „do zugend die von bern mit ganzer macht gegen den ölenden mit pfiffen, böggenschlahen (Paukenschläger») und mit einem großen oolk“. Nach heißem Kampfe wurden die feindlichen harste in die flucht geschlagen und bei Oberwangen entscheidend besiegt. Zur Vergeltung des flnschlags gegen Bern und zur Sicherung gegen weitere Überfälle wurden die benachbarten feindlichen Burgen Belp, Gertstein und Bremgarten zerstört. )n der für Jahrhunderte bedeutungsvollen Auseinandersetzung zwischen Habsburg-Dsterreich und König fldois von Nassau hatten die Kämpfe im Gebiet von frelburg und Bern nur nebensächliche Bedeutung. Die Entscheidung fiel am 2. Juli 1298 zu Oöllheim in der Rheinpfalz, wo fldols von Nassau in der Schlacht am Hasenbühl Krone und Leben verlor. Nun war für herzog Nlbrecht der weg zur Königswürde frei. Seinem zähen festhalten an dem von seinem Vater übernommenen Ziele, seinem Reichtum und seiner wacht, war es unter kluger flusnützung der von fldols von Nassau begangenen fehler gelungen, die Reichssürsten für Nch zu gewinnen. Kurz nach dem Siege bei Oöllheim erschien er in frank- furt, wo er von den Reichssürsten feierlich zum deutschen König proklamiert wurde. Die Befürchtungen Berns, die sich an seine Wahl knüpften, schienen unbegründet, indem er der Stadt schon 1298 auf dem Reichstag von Nürnberg ihre freiheiten bestätigte. Die Haltung fllbrechts erklärt Nch in erster Linie aus politischen Oründen. Die aufstrebende Stadt Bern war als zähringische Oründung auf Reichs- boden nach dem Tode Berchtolds V. 1218 als Reichsstadt anerkannt worden, wodurch sie nur dem Reiche Untertan und abgabepflichtig war. Die in die Stadt und in ihr Bürgerrecht aufgenommenen unfreien Bauern und Handwerker wurden nach Jahr und Tag (1 Jahr, 6 Wochen 10\\n\\ntiJftf-ii li (}\\'*\\'>•\\' l  ü » i  t! sKfi h L-?   : KMM Üi MLS t \\'l\\' ! ii*\\'‘.i ■£ • - r ;i: ■;.-, Z-MMDK-chSW -** \\'• \\'•; \\' \\\\;4V t : l , \\';. “ , , \\' - •*„*■!?-* i-i‘£\\'\\\\ :i - •’ * s- i.’ \\'“ x - >, *, )<*\\\\ A ^  V » J i* - » ^ v  4* B ^ ^ \\' E,» -\\' --\\'A E^4\\'L \\'Ä \\' \\'- &***•«*: .MIM UM» 3®iNw • \\'-^-\\'f». ■ ^*t,- / \\':*.vt/; iltßK4 MM i£zes-güJ$\\' 1«^; >E MLM WM?M 8GMs»! t*5$ä W’* > A^A^A\\'Ws%*>- ■-}\\' - iSk \\'.&?&• ^M»MD OWBWM ;|pS ,iis\\n\\nund 3 läge) frei, was einen groben Anreiz zur Ansiedelung in dem jungen Gemeinroesen bildete. So kam es, dah schon 1256 eine Stadt- erweiterung nötig wurde. Auch die gut bevölkerte Umgebung der Stadt muh sich schon früh Bern angeschlossen haben, sonst wäre es ihr wohl kaum möglich gewesen, der Belagerung durch König Rudolf standzuhalten und später das öfterreichifch-freiburgifche Heer bei Ober- wangen entscheidend zu schlagen, von Justinger wird uns überliefert, dah an dem unglücklichen Gefecht in der Schotzhalde auch Zuzüger vorn Gurten auf der Seite Berns kämpften, wir dürfen annehmen, dah zu €nde des xill. Jahrhunderts Bern auch bereits im Besitze seiner ersten Erwerbungen, der Kirchspiele Bolllgen, vechigen, Stettlen und Muri war. )n dieser weife gekräftigt, durfte es Bern wagen, mit dem Haufe tzabs- burg-österreieb den Kampf aufzunehmen, wobei es feine Achtung gebietende Stellung behauptet hat. viele Entwicklung Berns zur bedeutenden Reichsstadt, sowie zu einem militärisch wichtigen Platz und leistungsfähigen Gemeinwesen, das, an der Grenze von Saooyen gelegen, für die Erweiterung des habsbur- gifchen EigenbeNtzes kaum mehr in frage kam, dürste Albrecht bewogen haben, Bern gegenüber eine gemähigte Haltung einzunehmen. Eine Beunruhigung Berns trat erst ein, als Albrecht die Herrschaften Oberbofen, Anspannen und Unterfeen, die dem verarmten Geschlecht der Efchenbach gehörten, an sich zu bringen suchte, um damit eine Verbindung feiner Besitzungen in den waldftätten mit dem Berner Oberland herzustellen. Zu seinem Schutz verbündete sich Bern am 4. April 1301 auf 10 Jahre mit den neuhyburgem, denen die Städte Ihun und Burgdorf gehörten und am 23. Mai 1301 auf die selbe Dauer mit dem Städtchen Caupen, das für Bern als vorgeschobener Posten gegen die Stadt freiburg, die sich von jeher als ein unsicherer Nachbar erwiesen hatte, von grober militärischer Bedeutung war. überdies suchte sich Bern mit seinen groben und kleinen Widersachern zu verständigen. Am 8. April 1308 kam auch mit freiburg ein friede zustande. 11\\n\\nSchwieriger gestaltete sich die Herrschaft Albrechts in der jrmerschweiz, wo Habsburg das größte Interesse besah, den Oottharclpah, als wichtigste Verbindung nach Italien, in feine Oewalt zu bekommen und deshalb darauf ausging, die Waldstätte feiner votmähigkeit zu unterwerfen und einem erbkürstentum einzuverleiben. Vie in erster Linie auf die Vergrößerung feiner Hausmacht gerichteten weitausschauenden Unternehmungen und Pläne fllbrechts wurden jäh unterbrochen, als er am 1. Mai 1308 von feinem Neffen lohann von Schwaben und dessen Mitverfchworenen Rudolf von der wart, Rudolf von valm und Walter von Lkchenbach in windisch bei vrugg ermordet wurde. Ursache dieser frevlen lat war die Weigerung des lcindergierigen Königs, feinem Neffen das väterliche erbe herauszugeben. vie kür vern bedeutsame folge dieses Königsmordes war die Einziehung der Lände- reien und Oüter der verschworenen und ihrer verwandten durch das Haus Habsburg, wodurch es feine Machtstellung auch im verner Oberland erweiterte. Mit feinem Vater teilte fllbrecht das Schicksal, daß nicht sein Sohn, sondern ein anderer Reichssürst zum deutschen König gewählt wurde, was er, wie fein Vater, durch rücksichtslose, gewalttätige flusdehnung feiner hausmscht verschuldet hatte. Vie Kurie Regierungszeit des 1308 zum König gewählten Heinrich von Luxemburg ist für die spätern politischen ereigniste insofern von vedeutung, als er zur veschastung der notwendigen Oeldmittel für seine krönungssahrt nach Rom Reichsgüter ver- pfändete, so u. a. Schloß und Städtchen Laupen an den freiherm Otto von Orandson und das reichsunmittelbare haslital an die freiherren von weihenburg. )m fahre 1313, ein fahr nach feiner Krönung zum deutschen Kaiser, starb Heinrich eines jähen lodes, und von neuem entbrannte der Kampf um den deutschen Königs- und Kaiserthron, vie Kurfürsten teilten Nch in zwei Lager, von den einen wurde der Sohn fllbrechts, herzog friedrich, genannt der Schöne, von den andern herzog Ludwig von Vatern zum König gewählt, vern nahm zu diesen Königswahlen eine abwartende Haltung ein und richtete lein ganzes vestreben auf die fetti- gung feiner durch Habsburg-Ssterreich bedrohten Stellung. 12\\n\\n)n den JDaldstätten oerfolgte Habsburg-Österreich feine auf Unterjochung dieser nach frei helf und Unabhängigkeit strebenden Länder gerichteten Ziele mit unverminderter Hartnäckigkeit und Gemalt. Diesen Bestrebungen gebot 1315 die Schlacht bei morgarten Halt, In der die von Herzog Leopold, dem Bruder König friedrichs, angeführte österreichische Heeresmacht von den Eidgenossen entscheidend geschlagen wurde. Der Brudermord im Hause k^burg brachte Bern in neuen Widerstreit mit Habsburg-Österreich. Die Enkel Eberhards von K^burg-Burgdork gerieten über das väterliche Erbe in Streit. Hartmann, unterstützt durch die österreichisd)en Herzoge, verlangte den väterlichen Besitz als ungeteiltes Games für Nch, mährend fein Bruder Eberhard gezmungen werden sollte, Nch dem geistlichen Stande zu widmen, fim 30. Oktober 1322 kam es im Schlosse Ihun zu einer fiuseinandersehung zwischen den feindlichen Brüdern, in deren tätlichem Derlauf Hartmann von einem Gefolgsmann Eberhards vorn Schlohturm hinuntergestürzt wurde und den Tod fand. Die Ihuner erhoben Nch gegen den Brudermörder; doch gelang es den von Eberhard zu Hilfe gerufenen Bernern, den flufftand zu unterdrücken und die Anerkennung Eberhards als Inhaber des väterlichen Erbes in den kvburgi sehen Landen zu erzwingen. Habsburg-Österreich verfolgte andere Pläne. Getreu der traditionellen Losung auf Erweiterung der eigenen Hausmacht, verlangte Herzog Leopold die Herausgabe der infolge des Brudermords ledig gewordenen Güter, womit es Habsburg gelungen wäre, feinen EigenbeNtz am Oberlauf der Aare auszudehnen. jn dieser gefährlichen Lage erklärte Nch Bern zur Unterstützung k^burgs bereit, wandte sich aber, die möglichen folgen seiner Parteinahme erkennend, an seine freunde in würfen und Solothum und suchte nun auch bei den Eidgenossen in der jnnerschweiz, den geschworenen feinden Habsburg-Österreichs, Anlehnung, jrn August 1323 kam in Lungern das erste Bündnis zwischen Bern und den Waldstätten zustande, und 1327 wurden die Länder aus Betreiben Berns auch in den grotzen Landfriedensbund, dem eine grohe Anzahl süddeutscher und schweizerischer Städte angehörten, aufgenommen. 13\\n\\nDie Verletzungen Berns zum Baute Ryburg blieben mehrere )abre ungetrübt. Die Stadt erwarb vorn Grafen €berbard, der stets in großer Geldverlegenheit steckte, Stadt und Landschaft Thun, die ihm die Berner in der Erwartung feines kinderlosen flbgangs als erbleben von neuem anvertrauten. Zur großen Enttäuschung Berns heiratete Graf Eberhard Anastasia von Signau, die ihm acht Rinder schenkte, womit der in absehbarer Zeit erwartete ßeimfall Thuns an die Stadt Bern in weite Ferne gerückt, ja geradezu aussichtslos wurde. Ein weiterer Schritt zur Entzweiung Berns mit dem Ryburger bildete dessen auf persönliche Dorteile gerichtete Aussöhnung mit dem Haufe ßabsburg-österreich, und der endgültige Bruch trat ein mit dem eintritt des Grafen in das Burgrecht der Stadt Freiburg, mit der Bern feit der Erwerbung der Burg und des Städtchens Caupen im Jahre 1324 wieder auf schwer gespanntem Fuß lebte. Die gegenseitigen Brand- schatzungen führten 1331 zum sogenannten Gümmenenkrieg, in dessen Verlauf die Berner das freiburgiscbe Schloß und Städtchen Gümmenen an der Saane zerstörten und auch dem abtrünnigen Ryburger erheblichen Schaden und Verluste zufügten. Diese Feindseligkeiten beendete der von Rönigin Agnes, der Äbtissin des Rlofters Rönigsfelden, vermittelte und am 17. Juli 1333 in Baden abgeschlossene Landfriede. mit dem Hause ßabsburg-öfterreid) standen auch die Adelsgeschlechter im Berner Oberland in naher Verbindung, vor allem waren es die mächtigen Freiherren von weißenburg, die neben ausgedehntem Grundbesitz im Simmental die Herrschaft Unspunnen besahen, wo sie sich am obern Ende des Tbunersees mit großem Geldaufwand die Burg weihenau, die heute nur noch als verborgene Ruine bekannt ist, erbauen liehen, überdies besaßen sie die Pfandfchaft an der Landschaft hasli. Auch die Herren von Strättligen feien hier erwähnt, die zu dieser Zeit infolge tiefer Verschuldung gezwungen waren, einen Teil ihres Besitzes zu verkaufen, so u. a. die Herrschaft Spiez im Jahre 1338 an den beimischen Schultheißen Johann von Bubenberg, womit Bern am Eingang zum Simmen- und Randertal festen Fuß faßte. 14\\n\\nNicht nur die nahen Beziehungen der weihenburger zum Hauke habs- burg-öfterreid) und die damit verbundene feindliche Einstellung gegen die aufstrebende Reichsstadt Bern, sondern auch die grundsätzlich ablehnende Stellung der zielbemufjt auf ihre Unabhängigkeit und Busdehnung bedachten Stadt gegenüber den eigensüchtigen Bdels- gefchlechtern erzeugte eine gefährliche politische Spannung im Oberland. Den offenen Rampf löste die versuchte steuerliche Busbeutung der Landschaft ßasli durch die weihenburger aus. Die Herren von weihenburg waren nämlich, wie die meisten Bdelsge- fchlechter des Landes, durch fürstlichen Bufmand in grohe Schulden geraten, die sie nicht nur zum Derkauf verschiedener Besitzungen, sondern auch zur Eintreibung harter Steuern veranlaßten. Die hasler, ein arbeitsames, aber armes Dolk, fetzten sich zur wehr, wurden aber 1332 bei Bönigen geschlagen. )n ihrer Not wandten sie stch an die Stadt Bern, mit der sie feit 1275 verbündet waren. Bern kamen eine Buseinanderfehung und Bbrechnung mit den weihenburgern schon deshalb gelegen, weil diese Bnfpruch auf die Herrschaften Bfchi und mülenen erhoben, wodurch sie ihren fimmentalifchen und oberländifchen Besitz verbunden, damit ihre wacht von neuem gestärkt und Bern noch in erhöhtem wahe gefährdet hätten. Es kam zum Krieg. Nach der Einnahme von Burg und Städtchen wülenen rückten die Berner vor IDimmis. „Und also fturmden sie mit großem gezüg, mit katzen (Schirmdächern), bilden und holtzmetzen (wurfmafchinen) und andrem gezüge so oaft“ — schreibt Justinger — „daz N daz ftetli bald gerounnen; darnach sturmde man die vefti und tet man den Digenden so not, daz si teding (Waffenstillstand) suchten.“ Dieser Kriegszug endete damit, daß die Freiherren Rudolf und Johann von weihenburg die Landschaft hasst am 1. Juli 1334 der Stadt Bern verkauften und sich am 17. November desselben Jahres mit dem ihnen verbleibenden Land samt Leuten im Simmental unter den Schuh und Schirm Berns stellten mit der Derpflicbtung, dem Rufe der Stadt Jederzeit folge zu leisten. Bern bestätigte den Hassern ihre Rechte und Freiheiten und besteh sie bei ihrer bisherigen Reichsfteuer von 50 Pfund Pfennigen, die sie bis 15\\n\\nzum Untergang der alten Stadt und Republik Bern stets pünktlich entrichtet haben. überblicken wir die bisherige Entwicklung der Stadt, so ist festzustellen, dah sie sich aus bescheidenen Anfängen unter kluger staatsmännttcber, finanzpolitischer und militärischer Führung rasch zu einem machtvollen, blühenden Oemein- und Staatswesen entwickelt hat, das In unentwegter Verfolgung feiner auf Erweiterung der territorialen und poli- tlfch-militärifchen Macht gerichteten Ziele zu einer Achtung gebietenden Stellung gelangt war, die derart Neid und tzah des im Niedergang begriffenen Adels und der hinter Bern zurückgebliebenen zähringischen Schwesterstadt an der Saane hervorgerufen hatte, datz eine entscheidende Auseinandersetzung zu erwarten war. 16\\n\\n2. Die Stadt Bern zur Zeit des Laupenkrieges D SS Gebiet der Stadt Bern wurde vorerst begrenzt im Süden, Osten und norden durch den Laut der Bare und im Westen durch die Befestigungsanlagen mit dem Zeitglocftenturm als Stadtausgang, und feit der ersten Erweiterung der Stadt im jähre 1256 durch mauern und Türme am heutigen Waisenhaus- und Bärenplatz mit dem ßäflgturm als Mittelpunkt. Das JTrcal vorn fiäfigturm bis hinauf zur heiliggeist- kirche lag damals noch außerhalb der Stadtmauern und wurde von den Stadtbewohnern landwirtschaftlich ausgenützt, fluch noch nach dem ein» bezug dieses Gebietes innerhalb die Befestigungsanlagen der Stadt (1345) blieb es noch jahrhundertelang bei diesem Zustand, was aus alten Stadtplänen ersichtlich ist und woran noch heute der Name Speichergaste erinnert. )m Bremgartenroald hatten die Stadtbewohner ein Bolz» nutzungsrecht. Es ist schon darauf hingewiesen worden, dah die Stadt, die anfänglich 1500—2000 Einwohner zählte, bestrebt war, möglichst viel Leute aus der Umgebung aufzunehmen, um ihre wehrhaftigkeit zu erhöhen und auch dem Gewerbe die erforderlichen Kräfte zuzuführen. Zudem gelang es ihr, außer einzelnen adeligen familien auch ganze Herrschaften durch den flbfchluh von Burgrechtsverträgen dem Schutz und Schirm und damit auch der Gerichtsbarkeit der Stadt zu unterstellen und ste dem bernifchen Heerbann zu verpflichten, wodurch ihre wirtschaftliche und militärische Stellung gestärkt und gehoben wurde, fluch Klöster und geistliche Stifte, die stch vorn umliegenden fldel bedroht fühlten, suchten bei der aufstrebenden Stadt Rüdtbalt, oder sie wurden 17\\n\\ndurch kaiserlichen oder königlichen Machtlpruch dem Schuh und Schirm der Stadt unterstellt. So wurden u. a. das veuttchritterhaus in köniz, die Clunlazenser-Probstel Rüeggisberg, die Klöster Trüb und jnterlahen dem Schutze der Stadt Bern anvertraut, was anderseits diese geistlichen Stifte und ihren zum Teil sehr ausgedehnten Herrschaftsbereich mit Land und Leuten unter die Botmäßigkeit Berns brachte, womit naturgemäß auch die Heeresfolge verbunden war. Line weitere Maßnahme zur Erweiterung ihres Machtbereiches traf die Stadt mit der Zwangsweifen Einbürgerung unterworfener feinde, wie beispielsweise der Herren von Montenach in Beip, von denen luftlnger berichtet, dah sie 1298 nach der Zerstörung der Feste Gerlstein „von Belp gan Bern in die stat zugen und wurden da burger und seßhaft und taten als ander burger“. Außerdem benühte Bern, wie bereits dargestellt wurde, jede günstige Gelegenheit, um seine Stellung durch den Abschluß von Bündnissen und Der- trägen zu stärken und zu sichern. Auf diese weise gelang es der Stadt, ihren Einfluß und Machtbereich in kurzer Zeit derart auszudehnen, daß sie es wagen konnte, ihre eigenen Wege zu gehen und ihren zahlreichen feinden und Wider- fächern erfolgreich zu begegnen. über die innere Organisation der Stadt liegen für die ersten jahrzehnte ihres Bestehens nur spärliche Nachrichten vor. Sie berechtigen zur Annahme, daß an der Spitze des Gemeinwesens ein dem Adel angehöriger Schultheiß als oberster Heerführer und Richter stand, dem nach einer Urkunde vorn jähre 1224 ein Rat von 12 Mitgliedern beigegeben war, der stch aus in der Stadt anfälligen Bürgern, Adeligen und Handwerkern zusammensetzte. Seit 1249 wird ferner ein Rat der fünfzig erwähnt, der als Vorläufer des spätern Großen Rats oder des Rats der Zweihundert (0 L) angesehen werden kann. Bei der Gemeinde, das heißt der Versammlung sämtlicher stimmberechtigter Stadtbürger, lagen schon damals die wichtigsten Entscheidungen des Gemeinwesens, wie der Erlaß von Gesetzen, der Abschluß von Staatsverträgen, der Entscheid über krieg und frieden usw. Die weitere innerpolitifche Entwicklung, die gekennzeichnet ist durch das Bestreben der Bürgerschaft, besonders der Handwerker, gegenüber dem 18\\n\\n* !vv it- ou|4 jv l\\'Vi ^HWM \\'//! fvm \\\\iäü W3+& }* ■”: Die Candleute aus den rDaldftatten werden vor Ihrem flukdruch nach Laupen vor kern verpklegt\\n\\n-MEE c|y-rt:\\' 4 V^ *•\\'*•«\\'«** ’^S.C. W, K KMrWMK K Ä42Ä^ vWz UMW KDDMM >4X ^ W-L >;S’••.!■„ WsfHH 7?^ MMMNch\\' «t»f- MW EL : %fy\\' - \\\\ W*&! ßffi\\n\\nAdel zu vermehrtem Einfluß auf die Leitung und Geschicke der Stadt zu gelangen, führte zur Verfassung vom jähre 1294. Auf Grund dieses Stadtrechts wählte die Gemeinde aus den Bürgern der vier Stadtquartiere eine 16-gliedrige Behörde, die sogenannten »Sechszehner\", denen die Wahl des Grofjen Rates (CC) übertragen wurde und die verpflichtet waren, den verwaitungs- und Gerichtsbehörden mit Rat und Tat beizuftehen, von der Stadt Bedrängnis, Unrecht und Schaden abzuwenden und selbst übergriffen des Rates zu wehren, wahrscheinlich ist, dah auch die heimlicher und venner, die zur Zelt des Caupenkrieges erwähnt werden, in der Verfassung von 1294 ihren Ursprung haben. Die vier heimlicher hatten alle Angelegenheiten, die ihnen bekannt wurden, aus denen für die Stadt „mihhelli, schaden oder gebreften“ entstehen konnten, bei eidespflicbt im Grofjen oder Kleinen Rat vorzubringen; sie waren gewissermaßen eine geheime Staatspolizei- und Aufsichtsbehörde. Die Bedeutung der 4 venner deutet schon ihr Dame an. Sie waren abwechsiungsweife die Bannerträger der Stadt, führten in ihren Quartieren die Aufsicht über die wehrhaftigkeit der Stadtbürger, gehörten dem Kriegsrat an und waren mit dem Einzug der Steuern betraut. Auch die Beamtung des Stadtfchreibers begegnet uns zum ersten Mai im jähre 1295, die damals Peter von Gifenftein und nach ihm, von 1312—1346, fein Bruder Ulrich innehatte. Der Aufbau der Stadtverwaltung zeigt somit nach 1294 folgendes Bild: Die Gemeinde, d. h. die Gesamtheit der Bürger, wählt die Sechszehner; die Sechszehner wählen den Großen Rat (C C) als gesetzgebende Behörde, der Große Rat (C C) wählt den Schultheißen und den Kleinen Rat, als vollziehende Behörde, heute mit dem Regierungsrat vergleichbar, ferner die heimlicher, die venner und den Stadtfchreiber. Die Bestätigung dieser Behörden und Stadtbeamten, zu denen später noch der Grohweibel als Vertreter des Schultheißen im Stadtgericht, der Gerichtsfchreiber und der Ratshausammann als Leremonienmeifter kamen, erfolgte jeweilen in den Oftertagen auf ein jähr. Diese Organisation, mit der die Stadt ihre volle Selbständigkeit und Unabhängigkeit begründete, hat sich in ihren Grundzügen bis zum Untergang der alten Stadt und Republik Bern erhalten und bewährt. 19\\n\\nDie Zunftberoegung, die zu ende des xill. Jahrhunderts auch in Bern einsetzte, scheiterte am willen der Staatsleitung, die handwerkerverelni- gungen mit politischen Dorrechten, wie sie z. B. die Stadt Zürich Kannte, ablehnte. Um schon den Anfängen zu wehren, wurden 1307 die sogenannten Bandroerhsauffeher bestellt, denen oblag, die verschiedenen Berufe sowohl in handwerklicher wie aber auch politischer Hinsicht zu überwachen. Die HandwerKsordnungen, von denen uns als älteste diejenige der Weber und Walker vorn 30. September 1307 erhalten ist, Konnten nur mit Genehmigung des Großen Rates (C C) erlassen wer- den, womit politische Sonderbestrebungen verunmöglicht wurden. Dergestalt stellt sich uns die Stadt Bern im Anfang des XIV. Jahrhunderts als wohlgeordnetes, auf militärischer Grundlage aufgebautes Gemeinwesen dar, dem feine nach Freiheit und Unabhängigkeit strebende Bürgerschaft mit Rat und Tat, Gut und Blut verbunden war. 20\\n\\n\\\\mssa i 3. Die Ursachen des Krieges ^)ie Entwicklung der politischen und territorialen Machtoerhältniste in und um kern zu Beginn des xiv. Jahrhunderts ist bereits geschildert worden, Die kriegerischen Erfolge der von tatkräftigen und scharfblickenden Staatsmännern geleiteten Stadt sowohl im Oümmenenkrieg als auch gegen die Herren von weihenburg im Oberland, ihre weitstchtige Bündnispolitik, Ihre wirtschaftliche Erstarkung, verbunden mit ziel» bemühter Ausdehnung ihres Macht- und Herrschaftsbereichs, erweckten bei den umliegenden von Bern unabhängig gebliebenen fldelsgeschlech- lern die schwersten Befürchtungen kür ihr eigenes, zukünftiges Schicksal. Nach der Überlieferung lustingers war es Ritter Jordan von Burgistein, ein geschworener Oegner der Stadt, der den Tulammenschluh der feinde Berns betrieb und dem es gelang, die mächtigsten Dynasten des Landes gegen Bern zu vereinigen. Dabei lasten stch zwei Oruppen unterscheiden: die welsche mit den Oralen von Neuenburg, von der waadt, von Oreyerz, von Daiangin, dem freiherrn vom Ihurn und dem Bischof von Lausanne und die österreichisch-habsburgische mit den Oralen Eberhard von kyburg, Peter von flarberg, Rudolf von Nidau, Jmer von Strahberg-Büren und dem Bischof von Balel als lerritorialherr am Bielerlee. Den Mittel- und Dereinigungspunkt dieser zwei Lager mächtiger feinde Berns bildete die Stadt freiburg. überdies stellte stch der mit dem päpstlichen Bannfluch beladene deutsche König und Kaiser Ludwig der Bayer auf die Seite der Oegner Bems, das ihm bisher, als treue flnhängerin und Dienerin der katholischen Kirche, wie auch Solo- 21\\n\\nthurn, im Tbronstrcit flnerkennung und Huldigung versagt und für den dem Kaiser feindlichen Papst Partei ergriffen hatte. Das Verhältnis Zwischen den beiden Zähringerftädten Lern und frei« bürg war, wie bereits angedeutet wurde, stets ein sehr wechfelvolles. Lern, auf keichsboden gegründet, gelang es, Nch zur freien Reichsstadt emporzuschwingen, während freiburg, zum LrbbeNtz der Zähringer gehörend, später durch kauf an das Haus Habsburg-Slterreich übergegangen und damit mit dessen Oefchicken aufs engste verbunden war. Nach zahlreichen fehden und kriegerischen fluseinanderfetzungen zwischen den beiden 5tädten waren Jeweilen wieder dürftige friedensfchlüNe zustande gekommen, hinter denen sich aber immer wieder neuer Zündstoff anhäufte. Diese unliebem Verhältnisse zwischen den beiden vach- barftädten erklären sich sowohl aus der feindlichen einftellung habs- burg-Sfterreichs und des mit ihm verbundenen fldels zu Dem, als aber auch aus Neid und Mißgunst freiburgs gegenüber der aufblühenden, Nch zu Macht und Wohlstand entwichelnden Jüngern 8chwefterftadt. )n den friedensfchluh zwischen den beiden Städten vom Jahre 1308 schlug der Übergang von Schlotz und Städtchen Laupen an vern eine neue Dresche. Laupen, gegründet um das Jahr 930, war nach wechfelvollen Schichfaien unter den Zähringem, k^burgern und habsburgern 1273, als Rudolf von habsburg deutscher König geworden war, wieder an das Kelch zurückgefallen und wurde 1275 als Reichsstadt mit denselben Rechten und freiheiten, wie Ne vern besah, ausgestattet, flls Reichsvögte reN- dierten auf dem Schlotz freiburgifche fldelige, wodurch Laupen stets in enger Verbindung mit der Stadt freiburg blieb und von ihr als vorgeschobenes vollwerk gegen vern betrachtet wurde. 1324 gelang es vern, die Herrschaft Laupen, die von König Heinrich von Luxemburg 1310 wie noch andere Reichsgebiete verpfändet worden war, durch kauf an sich zu bringen. Dadurch sah Nch freiburg, das aus den veNtz des die Übergänge über die Sense und Saane in sein Gebiet beherrschenden Schlosses groben Wert legte, von neuem von vern geschädigt und bedroht, fluch der friedensfchluh im Jahre 1333, nach dem schon erwähnten Qümmenenkrieg, brachte keine dauernde Versöhnung der 22\\n\\nbeiden Städte, to daß die vom fidel gegen Bern einsetzende Kriegshetze auch in freiburg auf günstigen Boden kiel. Die Stadt trat in das Lager und an die Spitze der feudalen Koalition, die Bern auf einer Zusammenkunft in der Burg slidau den Untergang geschworen hatte. Den Bernem blieben die Umtriebe ihrer feinde nicht verborgen, und sie erkannten die grohe Gefahr, die ihnen von der mit freiburg verbündeten feudalmacbt drohte. Zur Einleitung der felndfeligkeiten wurde Bern von seinen Gegnern planmäßig mit unberechtigten, übertriebenen forderungen und flnfprüchen bedrängt, auf die der Rat von Bern unter führung des tatkräftigen und klugen Schultheißen Johann von Bubenberg die Antwort erteilte, dah Bern bereit sei, »recht um recht zu halten.“ )n der Hoffnung, durch weises Entgegenkommen wenigstens einen feil feiner mächtigen Gegner befriedigen und sie damit von der Derfchwörung gegen Bern absprengen zu können, brachte Bern den frelburgern eine Tagleistung, oder wie wir heute sagen würden, eine Konferenz in Dorfchlag, die unter Teilnahme der Dertreter von Bern und freiburg und der einflußreichsten feudalberren von Berns Gegnerschaft, der Grafen von ßyburg, von slidau, von Greyerz und von sleuenburg, am 25. April 1338 in der Kirche zu sleuenegg stattfand. Die gegen Bern vorgebrachten klagen und forderungen waren nach der Überlieferung Juftingers mannigfacher Art: So forderte u.a. Graf Gerhard von Dalangin von Bern die ihm vom Kaiser abgetretenen 300 Mark Silber für rückständige Reichssteuern und die Anerkennung Ludwigs von Bayern als König und Kaiser; Graf Peter von Greyerz machte gegenüber den Herren von weihenburg, die nun Bürger der Stadt Bern waren, eine wucherisch übersetzte forderung von 8000 Pfund geltend. Graf Rudolf von slidau beschuldigte die Berner, ihm widerrechtlich drei seiner hörigen Heute von Erlach entzogen und zu Bürgern angenommen zu haben; Graf Eberhard von kyburg verlangte den Der- zieht Berns auf die Stadt Thun und die Zusicherung, daß keine seiner Untertanen mehr in das Bürgerrecht der Stadt Bern aufgenommen werden, und freiburg machte alte Rechte auf Schloß und Städtchen Caupen geltend, die es mit Hilfe des verbündeten Adels wieder zu erlangen hoffte usw. 23\\n\\nNoch andere Klagen und Beschwerden wurden gegen Bern vorgebracht, die alle erkennen liehen, dah Nch leine Gegner die vemichtung der kraftvoll aufstrebenden, opferfreudigen Stadt zum Ziele gesetzt hatten. Die Dertreter Berns erfüllten die vorgebrachten Forderungen, soweit sie deren Berechtigung anerkennen muhten oder sofern staatsmänniscbe Klugheit sie dazu bewog; im übrigen erklärten sie sich bereit, vor dem Richter Rede und Antwort zu stehen, hervorzuheben ist, dah Bern die Anerkennung Ludwigs von Bayern als deutschen König und Kaiser und die Bezahlung verfallener Reichssteuern ablehnte, da aus Ludwig noch immer der päpstliche Bannfluch lastete, dah es aber, um die Herren von weihenburg noch enger an Nch zu ketten, dem Oralen Peter von Oreyerz deren Schulden auf Staatskosten bezahlte, was die weihenburger der Stadt im kommenden Krieg durch treue Heerfolge vergolten haben. Die Klage des Orafen von Hidau wurde damit erledigt, dah die von ihm zurückgeforderten drei hörigen von Erlach aus dem Bürgerrecht der Stadt entfallen wurden. Gegenüber den Zumutungen Freiburgs blieben die Berner fest; sie verweigerten die Rückgabe Caupens, das sie rechtmäßig erworben hatten, und ebenso wurde die Forderung des Oralen Eberhard von Kyburg auf Preisgabe von Thun mit dem Nachweis abgelehnt, dah der kauf von Ihun der Stadt Bern vorn König und Kaiser ausdrücklich bestätigt worden war. Bern war mit den Zugeständnillen an feine Widersacher in der Hoffnung, den drohenden Krieg verhindern oder doch einen Teil feiner Gegner beschwichtigen und von der Teilnahme an kriegerischen Unternehmungen abhalten zu können, sehr weit gegangen, was aber nicht zum erwarteten erfolg führte. )m Gegenteil, das teilweise Nachgeben wurde Bern als Furcht ausgelegt und in Schmähliedem verspottet. Aus einem dieser Spottlieder ist uns der Ders überliefert: „bist du von Bern so duk dich und latz übergan“. Alle Anzeichen deuteten auf krieg. Bald erhielt Bern sichere Kunde von der Anwerbung von Kriegsoolk durch den Grafen Gerhard von Dalan- gln, und von Anton von Blankenburg, dem beimischen Bogt in Caupen, wurde geschäftige Tätigkeit in Freiburg gemeldet, die ebenfalls auf Kriegsvorbereitungen schließen lieh. Noch einmal unternahm Bern, 24\\n\\ndcslcn Bevölkerung angesichts der müchtigen Gegnerschaft von unhetl- oollen Ahnungen erfüllt war, einen versuch zur friedlichen Beilegung des drohenden Krieges, der aber am tzochrnut und der Überheblichkeit der sich unbezwingbar fühlenden Adelskoalition scheiterte. Die letzte Zusammenkunft Abgesandter von Bern und frelburg fand in flamatt statt und endigte ergebnislos; „alfus wart der tag zerschlagen\", schreibt Justinger, „und schieden (die Berner und freiburger) in unfründsebaft von einander“. Der Krieg war nicht wehr aufzuhalten. 25\\n\\n4. Der flusdruch des Krieges Oie feindkeligkeiten gegen Bern wurden durch den Oralen Oerhard von valangin, einen Oünftling des Kaisers, eröffnet. )m frühling 1339 schichte er den Bernern den flbfagebrief, d. h. die Kriegserklärung. Nach vurchquerung der aarbergifchen Lande fiel er sengend und brennend in bernifches Hoheitsgebiet ein und fand dabei die Unterstützung feines verwandten, des Orafen Peter von Karberg, der ihm und feinen knechten, wenn sie beutebeiaden von ihren kaubzügen in feine Burg zurückkehrten, Schutz und Schirm gewährte. Dieses Verhalten des Orafen von flarberg, des frühern Bundesgenossen, bedeutete für die Bemer Ireu- bruch und verrat, da er Nch gegenüber Bern auf eine bestimmte Zelt mit Brief und Siegel verpflichtet hatte, weder feindliche Unternehmungen zu beginnen, noch zu fördern und zu unterstützen, flnfehen und Ehre geboten die Bestrafung dieser Ireulofigkeit. flm pfingftfonntag, den 16. Mai 1339, zogen die Bemer gen flarberg, in der flbficht, Schlotz und Städtchen zu überrumpeln. Der Plan mißlang, da der flarberger von dieser flbficht Berns rechtzeitig Kundschaft erhalten und Stadt und Beste in trefflichen verteidigungszuftand gefetzt hatte, dem die Berner ohne hinreichendes Belagerungsmaterial nicht gewachsen waren, kurz entschlossen wurde die Belagerung, nach vergeblichen flnftrengungen, dem feinde beizukommen, abgebrochen. Nach damaligem Kriegsbrauch kehrte die bernifche Streitmacht plündernd und verwüstend nach Haufe zurück, wo man die weitere Lntwicklung der vinge mit steigender Sorge verfolgte. 26\\n\\nDas Lager des Mtterheeres vor Caupen\\n\\nfür die Adelshoalition war mit dem Angriff Berns auf Aarberg das willkommene und ersehnte Signal zum längst vorbereiteten Vernichtungskrieg gegen die verhaßte Stadt gegeben. Die Boten von freiburg und feiner verbündeten Feudalherren trafen bald mit den Absagebriefen in Bern ein, wo nun die Vorbereitungen zum kriege ebenfalls tatkräftig an die Hand genommen wurden. Der Angriff auf Bern war aus der Richtung freiburg zu erwarten, wofür nicht nur das Verhalten der Nachbarschaft, sondern ganz bestimmte Nachrichten über Iruppenanfammlungen im Saanegebiet sprachen. €s war vorauszusehen, daß Laupen als begehrtes bernifches Bollwerk am Saane- und Senfeübergang das erste Ziel der feindlichen Unternehmungen bilden werde. Bern fetzte daher Schloß und Städtchen Laupen sofort in verteidigungszuftand. Die 200 Mann Befatzungstruppen aus Laupen und feiner Umgebung, unter dem Befehl des bernifchen Vogts, Antons von Blanhenburg, wurden durch 400 notfefte Stadtberner verstärkt, die nach der Überlieferung Justingers so ausgelefen wurden, daß „roa ein vatter und fin fun warent, der wart einer gen louppen geben, wa such zroen gebrüder warent, der wart einer gen louppen geben, darumb daz die gen louppen gefant wurden, defter (desto) sicherer werent, daz fi ir fründe entfchütten (entsetzen)\". Der Oberbefehl über diese Besatzung wurde dem ältesten gleichnamigen Sohne des regierenden Schultheißen, Johann von Bubenberg, übertragen. Neben Hans Nükom und Peter Rratinger war ihm als kriegs- werkmeifter, oder wie wir heute sagen würden, als Artillerie- und Oeniechef, der kriegserfahrene Meister Burkhart, ein Bürger von Nidau, beigegeben. Das Banner Berns wurde dem erprobten Nenner Rudolf von Mulern anvertraut. Diese auserlesene, pflichtbewußte Schar, beseelt von Opfermut und unverbrüchlicher Irene zu ihrer Vaterstadt, der sie Sieg oder lod geschworen hatte, ging sofort energisch ans Werk und traf alle Maßnahmen zu erfolgreicher Verteidigung der ihr anvertrauten Burg und Stadt, deren Schicksal für Bern von ausschlaggebender Bedeutung werden konnte. Bern befand sich in einer schwierigen Lage. \\' Don feinen frühern freunden waren ihm in dieser Zeit höchster Not und Oefahr nur wenige treu geblieben. Blei war durch das Oebiet des 27\\n\\nGrafen von Bidau, dessen Söhne Rudolf und JaKob das im lahre 1336 auf 20 lahre eingegangene Bürgerred)t mit Bern angesichts des drohenden Krieges aufgegeben hatten, von Bern abgeschnitten; die Ry- burger bestimmten Burgdorf zur Absage; Graf Peter von flarberg war ebenfalls zum feinde übergegangen, und endlich versagten auch die Klöster Rüeggisberg, Interiaken und Buchfee Bern die Heerfolge. )n einer besonders heiklen Stellung befand sich fTlurten, das schon im Gümmenenkrieg auf der Seite Berns gegen freiburg gefochten und 1334 feine alten Bünde mit der Reichsstadt an der Rare erneuert hatte, inmitten der mächtigsten feinde Berns gelegen, war Mutter» bei Erfüllung feiner Bündnispflicht in erster Linie der Rache der fldelshoalition ausgesetzt. )n dieser gefährlichen Lage wandten Nch die Behörden von Murten an freiburg mit dem Ersuchen um Anerkennung der Neutralität ihres Gemeinwesens, wobei versprochen wurde, datz während des Krieges jede Hilfeleistung an Caupen und Bern, auch die Lieferung von Lebensrnitteln und andern Bedürfnissen unterbleiben solle, vieles versprechen wurde wohl von den verantwortlichen Behörden Murtens, auf Veranlassung und Druck ihres Landesherrn, des Grafen flyrno von Savoyen, genannt der friedfertige, der sich ebenfalls neutral verhielt, gehalten; dagegen ist feine Bürgerschaft mit wenig Ausnahmen Bern treu geblieben. freiburg hat später eine ganze flnzahl sHurtener-Bürger, die Caupen und Bern mit Getreide, fleisch. Salz und wein versorgt und auch kund- sebafterdienste geleistet hatten, zur Rechenschaft ziehen lassen. Unverbrüchlich hielten zu Bern die vier Kirchspiele, die Oberbasier, die frei Herren von weihenburg mit den ihnen verbliebenen Landen, und auch die Solothurner bekundeten Bern ihre noterprobte alte freund- fchaft, trotzdem auch ihre Stadt vorn fidel schwer bedroht war. in dieser Notlage wandte Nch Bern an die waldftätte Uri, Schwyz und Unterwaiden um Hilfe, mit denen es, wie schon erwähnt, 1323 in Lungem ein Bündnis gefchlotten und seither freundschaftliche Beziehungen aufrechterhalten hatte. Eine Heerfolgepflicht der waldftätte gegenüber Bern bestand nicht mehr, und doch durfte Bern mit der Hilfeleistung der Jnnerfcbroeizer rechnen. 28\\n\\nDiese hatten 1315 am Morgarten mit habsburg-ülterreich blutige Abrechnung gehalten. Jede neue Stärkung ihres Erbfeindes, wie sie die Niederlage ßems gegen die Adelskoalition bedeutet hätte, muhte auch ihnen gefährlich werden. Es lag daher die Unterstützung Berns auch im Interesse der Candleute von Uri, Schmyz und Unterwaiden, fodatz von ihnen eine günstige Antwort auf das tziifsgefuch zu erwarten war. Und wirklich kehrte Berns Abgesandter, Johann von Kramburg, mit der ersehnten und tröstlichen Botschaft Über den Brünig zurück: »lieben fründ von bem, niena spüret man fründ, denn in der not; und wan es üch nu an der not lit, so sond ir fründ an uns Dinden und haben. Siddenmale daz es lip und gut gilt und so vil biderber lüten so im floh louppen belegen flnt darumb verderben mühten, die reellen wir helfen entfchütten und reellen üch in difer not nlt lassen, wir reellen den von bem hiflich und darumbe lip und gut wagen\". Indessen hatte sich vor Caupen eine grohe, achtunggebietende Streitmacht der verbündeten gesammelt. Den Großteil des fuhvolkes stellte frei» bürg, und gemischte Detacbemente mit vorwiegend auserlesener Reiterei brachten die verbündeten Grafenhäuser sowie die Bischöfe von Sitten, Laufanne und Basel auf. Nach heimischer Schätzung mag die Stärke des feindlichen tzeeres 17 000 mann betragen Haben, was Heute einer ver- stärkten eidgenössischen Division entspricht. Davon waren 1000 schwer bewaffnete und geharnischte Ritter aus dem Adel der Umgebung frei« burgs, des welfchlandes, von Schwaben und aus dem Elsaß, ferner 3000 mann leichte Reiterei und der Rest fuhvolk. Unter den hervorragenden persönlichen Teilnehmern an der Schlacht find j u.a. zu erwähnen die Grafen von Dalangin, Neuenburg, Nidau, Aarberg und Greyerz und Graf Johann von Savoyen, der einzige Sohn des Herrn der JDaadt, der gegen den willen seines neutral gebliebenen j Daters am Kampfe wider Bern teilgenommen hat. Am 10. Juni 1339 fetzte die Belagerung Caupens ein. mit den modernsten Belagerungsmitteln der damaligen Zeit, mit wurfmafchinen, sog. Bilden, die schwere Steine in Schloß und Stadt schleuderten, und Schirmdächern, sog. Katzen, unter deren Schutz die Belagerer die Stadtmauern zu untergraben suchten, wurde Laupen Tag und Nacht berannt. Die 29\\n\\nBesamung leistete mit opferfreudiger Unterstützung der Bürgerschaft des Städtchens tapfersten widerstand und fügte in kühnen Ausfällen dem feinde schweren Schaden zu, in Kenntnis des Gelöbnisses der Angreifer, „daz fi bürg und ftat louppen an (ohne) alle gnade und barmherzig- keit zerstören möltind, und alle die lüte so darinnen märind ertöten und ane Helling henken, und darnach die ftat zu bern elntroeders zerstören oder aber iederman ein bus darinnen, die inen die edlen und gewaltigsten ieh ufferhofen (auserkoren) und erroelt haltend, und denne die ftat mit allen rechten ewiklich beühen, also das vorhin wib und man ze bern, jung und alt, alle sollend ertöt werden die nit entrunnend oder entrinnen möcbtind“. )n Bern, wo fieberhaft gerüstet wurde, trafen im Laufe der Belagerung von Caupen alarmierende Nachrichten ein, die nicht nur die mit jedem Tag bedenklicher werdende Lage der Befatiungstruppen schilderten, sondern auch Kundschaft gaben vorn Anwachsen des Ritterheeres und feinem übermütigen, ausgelassenen Lagerleben, das vorn Schloße aus beobachtet werden konnte. war die Stimmung in Bern schon beim Auszug der Befatiungstruppen eine gedrückte, so stieg die Sorge um so viele wackere Gatten, väter. Söhne und Brüder, die in Caupen eingeschlossen waren, noch mehr, als von Solothum durch eilboten gemeldet wurde, dah die österreichischen Vögte im Aargau mit „gar groh volk daher zugend, die bi zwei tagen zu louppen roörind“. Doch Bern blieb unverzagt, vor allem war es neben dem Schultheißen Johann von Bubenberg und feinen Getreuen der Ceutpriefter Theobald Bafelwind, ein Angehöriger des Deutfch-Ordenshaufes, der mit hinreißender Beredsamkeit und Überzeugungskraft seinen Mitbürgern Mut und Zuversicht predigte und sie in feurigem Gebet der tzilfe des Allmächtigen empfahl. Längst schon Hatte der bernifche Kriegsrat, dem außer dem Schultheißen die fünf Heimlicher Burkart von Bennmii, Burkhart, der kriegswerk- meifter, Johannes von Seedorf, Bertold Gloggner und Peter kratinger angehörten, das Aufgebot in den Bern treu gebliebenen Gebieten erlassen. Täglich strömten neue Kontingente wehrhafter Männer und 30\\n\\njsffiüt ML Wma, »«a\\' Yjr>$ s&tä w* > .-». H am 3?.\\\\V Ei LM» Das fuhvoik des Koalitionsheeres wird von den vernern in die fluch! gelchiagen\\n\\ni I I wMJ. J/“/. wm i* äV Der Kampf der Berner und ihrer Derbündeten gegen die Ritterschaft\\n\\nM-N.\\' $V WW- LEch .... • ‘ A .v , [\\'- ; -^fl5C MW ■_V^f\\' $$*; ^WMW \\' • . \\'\\' ?r^\\' - EM  V : ^Ö§|tS ■ i : LMW AMch mm SSäES\\n\\nJünglinge, die damals schon vorn 16. flltersjahr an dienstpflichtig waren, in die Stadt, wo sie von den Dennern Peter von Balm, Peter wentschatz und Johannes von hebligen gemustert und eingereiht wurden, während der vierte Benner schon in Caupen stand. Der Oberbefehl über den beimischen fluszug wurde nach der Überlieferung Justingers dem kriegserfahrenen, wohlerprobten Ritter Rudolf von Lrlach übertragen. €r war ein hochangesehener Lehensmann und freund des Grafen von Bidau und in Bern verbürgen, wo er ausgedehntes Grundeigentum besah. Diese Bindung an Bern brachte ihn in Zraiespalt mit seinem Lehensherrn, der unter dem Druck seiner adeligen Derroandten und freunde zu den feinden Berns übergegangen war. )n männlicher flussprache mit seinem Herrn und Gönner entschloß er sich, in seine Daterftadt zurückzukehren. )n Bern mit Jubel empfangen, fand er sich auf inständige Bitten und Dorstellungen seiner Mitbürger bereit, die fübrung zu übernehmen, nachdem ihm männiglich Gehorsam und straffe Rriegszucht gelobt hatte. Der ebenfalls sehr wichtige 5chutz Berns wurde dem Schultheißen Johann von Bubenberg annertraut, der auf die sonst dem Stadtoberhaupt zukommende Beantwortung und ehre des Rnfübrers zugunsten €rlachs Bezicht geleistet hatte. Mit wachsender Ungeduld erwarteten die Berner angesichts der immer kritischer werdenden Lage der Besatzung von Caupen und des ihr bei einer Niederlage bevorstehenden Schicksals den Zuzug ihrer Bundesgenossen aus den Waldstätten, dem Oberhasli und dem Simmental, ohne deren Unterstützung sie den bevorstehenden sDaffengang nicht wagen konnten. 3t\\n\\nmm 5. Die Schlacht 20. Juni, einem Sonntag, traf die freudige Kunde Dom herannahen der hilksnölker aus den waldstätten, dem Oderhasli und Sim- mental in Lern ein, die auf ihrem flnmarlch dreimal angegriffen morden waren. )n der kleinen Ortschaft Muri, eine Wegstunde vor Bem an der Ihunftrahe, wurden sie verpflegt und einquartiert, von einem Einmarsch und Empfang in Bern wurde nach der Ehronik Juftingers Umgang genommen, um die Bundesgenossen nicht von der Zaghaftigkeit und fingst, die hauptsächlich frauen und Kinder ergriffen hatten, beeinfluhen zu lassen. )n der frühe des 21. Juni erfolgte der flufdruch der Streitmacht, begleitet vom Leutpriefter Iheobald Baselwind, „als ein getrüwer Hirt, der Nne feie und sin leben geben wil für sine schal\", der Gottes Leib in der Monstranz mit Nch trug. vie Bundesgenollen aus der Jnnerschweiz und dem Oberland zogen durch Bern nach der „brunlchÜr\" vor der Stadt, „vo waz inen schon getischet und ein gut morgenbrot bereit und wart iro wol empflogen (gastfreundlich aufgenommen)\". Der kleine Hof „ftäs und Brot“, kurz vor dem Eintritt in den Forst, der sich von nieder- roangen bis nach Caupen zieht, wo Nch die bernische Streitmacht Gesammelte, soll von diesem spätem Morgenhalt seinen Namen erhalten haben. vas bernische Heer zählte nach vorNchtiger Schätzung 6000 Mann; davon entfallen 1000 Streiter auf die hilfstruppen aus den waldftätten, und weitere 1000 Kriegsknechte stellten das Oberhasli und die Herrschaft weihenburg im niedersimmental unter der führung Johanns von weihenburg. ferner schichten die Solothumer 18 Helme mit je 2—3 32\\n\\nBegleitern; ein mehreres zu tun vertagte ihnen ihre eigene durch habs- burg-vsterreich gefährdete Lage. 3000 Mann brachten Bern und seine vier Kirchspiele auk. viele 2ahl bedeutet eine gewaltige Leistung bei der Feststellung, dah Bern damals nach heutigen Begriffen eine Kleine Stadt, und auch die Umgebung mit den vier Kirchhörinen Bolligen, vechigen, Stetsten und JTluri zum Teil noch schwach besiedelt war. Selbstverständlich hatten auch die in Bern verburgrechteten heerkolge zu leisten. Eine einheitliche Bekleidung der Kriegsknechte kannte man damals noch nicht, Als gemeinsames Lrkennungs- und Kriegsabzeichen hatten die Berner und ihre hilsstruppen ein aus langen weihen Leinwandstreiken gebildetes Kreuz auk ihren Röcken aufgenäht oder auf dem Harnisch befestigt. Es ist anzunehmen, dah das futzvolk teilweise das Kettenhemd oder den Halsharnisch mit Asenhut oder Beckenhaube trug, während die Reiferes mit Kettenhemd oder Panzer ausgerüstet war. )n der Lhronik Juftingers werden unter dem Kriegsmaterial auch »Herwegen\" (Heerwagen) erwähnt, die von spätern Oeschichtsschreibern als Sichel-, d. h. Kampfwagen, wie sie im Altertum gebräuchlich waren, angesprochen wurden, wofür aber gar keine Anhaltspunkte nachzuweisen sind. €s wird sich bei diesen Heerwagen zweifellos um den Heer-Trotz mit Kriegsgerät und Proviant gehandelt haben, ver Aufmarsch des beimischen Heeres über Matzenried Richtung Brarn- berg—Laupen vollzog stch in voller Deckung und mutz unter Berücksichtigung der damaligen wegverhältniste mehrere Stunden in Anspruch genommen haben, sodah der Überlieferung Justingers, datz die beimische Streitmacht am Nachmittag „uf dem aker vor dem forst“, d. h. auf der höhe des Bramberges anlangte, alle Wahrscheinlichkeit zukommt. Beim verlassen des Forsts, der sich damals weiter nach Westen ausgedehnt hat als heute, stiehen die Berner auf den Feind, und hinter dem Laupenwald, der Schloh und Städtchen Laupen den Blicken des Cntsahheeres entzog, sahen sie den Rauch des abgebrochenen, brennenden Ritterlagers aufsteigen, was darauf hinzudeuten scheint, dah die Belagerer rechtzeitig vorn Anmarsch der Berner Meldung erhalten und sich zum Angriff vorbereitet hatten. 33\\n\\nLaupenschlaeht 1339 * S> VJ . V ^ ^ Q (X) S ^-8 n u Festgabe der Eidg. Landestopographie\\n\\n?«> h •v ■\\' \\'* ■ m  i vja-. .\\\\ • ■■ ■äv s \\\\  \\'\\n\\nI\\n\\nRlttersdjaft und Fuhvolk des Koalitionsheeres zogen den vernern auf der alten vernstrahe durch den Laupenwald entgegen, veim flustritt auf das w^denleld, einer gegen den vramberg sankt ansteigenden ebene, wurden die Führer des Ritterheeres der Vorhut der vemer am Waldrande des Forsts gewahr und entlchlosten Nch zum flngriff. Langsam wälzte Nch die gewaltige Waste des FuhvolKes über die schlechten Waldwege heran und bekammelte Nch nördlich der vernstrahe Zwischen den Oehötten Oberwil und vuchli, während der Reiterei das Gelände südlich von Oberwil zur Kampfentwicklung zur Verfügung stand. Inzwischen entfalteten die vomehmen Ritterkcharen unter den flugen der aus dem Forst tretenden vemerharste ihr volle wacht und Pracht, sprengten an die Reihen der verner heran und verhöhnten Ne mit Wort und Tat. fluch wurden zahlreiche lunge fldelige der Sitte gemäh ange- stchts des Feindes zu Rittern geschlagen, was bis in den spätem Nachmittag hinein dauerte. fluch die Bereitstellung der feindlichen Heerhaufen erforderte geraume Zeit; das Fuhvolk auf dem linken Flügel formierte sich in ^gegliederte Schlachtordnung, und die Ritterschaft machte Nch auf dem rechten Flügel zum flngriff bereit, vie verner teilten ihre Truppen entsprechend der flufstellung des Feindes ebenfalls in zwei Schlachthaufen, vie waldstätter verlangten, „daz N mit den Herren die ze roh warend stri- ten und die für Nch nemen sötten\", wozu Ne ihre Feindschaft zu habsburg- Slterreich, desten Ritterschaft im fldelsheere stark vertreten war, und ihre erfahrungen im Kampfe gegen die Reiterei bewogen haben mögen. Vie Hauptmacht der vemer, unter dem vefehl erlachs, bezog Stellung gegenüber dem zahlenmähig überlegenen Fuhvolk der flüsterten. Jn der Witte des Schlachthaufens flatterten das Stadtbanner vems und die Fähnlein der Simmentaler und Oberhasler, umgeben und beschützt von den mit kurzfchäktigen Hallebarden und flxten bewehtten Kriegs- Knechten, während die mit Spiehen bewaffneten Streiter die vorderste Schlachtlinie bildeten. Nach eidgenöstifcher Übung tmg jeder unbe- ilttene Krieger eine flnzahi groher Steine mit Nch, die er zu veginn des Kampfes gegen die verittenen schleuderte, womit in die feindlichen Reihen Verwirrung und Tod getragen wurden, hier, im flngestcht des an Zahl überlegenen Feindes, rief Erlach feine Streiter an: »wa Nnd nu die mit den grünen röken und die uf der 35\\n\\ngalten mulich (mutwillig) sind? clie tretend har zu mir, die sollend vor der panner fin und stan als ein mur“. Und aus den Reiben seiner Getreuen traten die Metzger und Gerber hervor und gelobten: „herre, wir fint hie und tun was ir uns heißend\". Endlich, um die Vesperzeit, als die linkende Sonne „denen von Hern under die ougen schien\", begann die Schlacht, nachdem Graf Rudolf von nidau, der nur schweren Herzens gegen Bern ins seid gezogen war, noch einmal versucht haben soll, eine friedliche Beilegung des Konflikts herbeizuführen. Aus ihrer Stellung am Bramberg stürzte sich die Vorhut der Berner auf das freiburgisebe fuhvolk, worauf der beimische feldbauptmann den Moment der Verwirrung, den der Steinhagel seiner Mannschaft beim feinde hervorgerufen hatte, benutzte, um seine Leute wieder in die erhöhte Stellung am Bramberg hinaufzuführen, aus der die Beleidigung und der eigene Angriff erleichtert waren. Diese militärisd) wohlüberlegte und durch die Bodenoerbältniste des Schlachtfeldes gebotene Matznahme wirkte sich verschieden aus. Die rückwärtigen Abteilungen der Berner, die das ftampffeld nicht überblicken konnten, hielten den Stellungswechsel ihrer Vorhut für Rückzug und ergriffen in wilder Panik die flucht in den schützenden Forst, von wo sich jedoch die meisten allmählich wieder hervorwagten „und taten atz biderb srom lüte und vachten (fochten) und stritten als beide“. Nur wenige blieben verschwunden, die man fortan als „forster“ verspottete und der Verachtung preisgab. Rudolf von erlach behielt trotz dieses Lwifchenfalls feine Schlachthauken fest in der Hand. er soll, als ihm die flucht dieser „forster\" gemeldet wurde, ausgerufen haben: „es ist gut daz die bösen bi den biderben nit belibent noch syend, die sprüroer fint von den Kernen gestoben“. Den freiburgem gereichte diese Bewegung der Berner zum Nachteil, da ihr Angriff nun ins Leere flieh. Aus der von den Bernern bezogenen erhöhten Stellung am Mesthang des Brambergs, in die das feindliche fuhvolk nicht nachzudrängen vermochte, ging erlach seinerseits zum Angriff über. Mit ungestümer Wucht und Kraft brachen die Spießer in den feindlichen Heerhaufen ein und öffneten den nachdrängenden Hallebarden und Mordäxten freie Bahn. Mit schonungsloser Gewalt wurde alles niedergeschlagen, sodah 36\\n\\nbald große Cüchen In den Reiben des Gegners klafften. Immer tiefer sah man das weihe Kreuz In die feindlichen ßeerbaufen eindringen, bis auch die noch vor kurzem so stolz webenden adeligen vanner Im Schlachtgetümmel wankten und untergingen. )n blutigem Ringen und Gemetzel wurde die Schlachtordnung des fldelsbeeres durchbrochen, das fußvolk bezwungen und in wilde flucht geschlagen, wobei die feindlichen vanner erbeutet wurden. )n dieser Kampfhandlung muh stch vor allem Rudolf von Lrlach ausgezeichnet huben, der mit Todesverachtung überall anfeuernd in den vordersten Linien kämpfte und feine Getreuen mit stch ritz. Einen viel schwereren Stand hatten die waldstätter und die ihnen zugeteilten 18 Helme aus Solothurn gegenüber der schwer bewaffneten und gepanzerten, die eilte des feindlichen Heeres bildenden Ritterschaft. )n ungestümen fittacken wurde der kleine Hausen der todesmutigen Jnner« schweizer, die mit ihren kurzen Spießen und Hallebarden nur schwer an die mit der Lanze dämpfenden Ritter herankommen konnten, umzingelt und scharf bedrängt. )n dieser kritischen Lage riefen sie die gegen das feindliche fußvolk Negreichen berniscben garste zu Hilfe. Rudolf von €rlacb verzichtete bei dieser Kampflage auf die Verfolgung des fliehenden fußvolkes und brachte mit seinen erfolgreichen Scharen den freunden aus den IDaldstätten die ersehnte, aber auch dringend notwendige Unterstützung. Mit ganzer Kraft, angefeuert durch den bereits errungenen Sieg über das feindliche fußvolk, warf stch die Hauptmacht der verner, vereint mit ihren Getreuen aus den Waldstätten und Solothurn, von allen Seiten der Ritterschaft entgegen und brachte auch ste, trotz mutiger Gegenwehr, unter den wuchtigen Schlägen der Hallebarden und Streitäxte zum weichen, wer nicht fliehen konnte, wurde erschlagen. es wird uns berichtet, daß im Laufe der Schlacht der tapfere Leutpriester Iheobald vafelwind in die Hände der feinde gefallen fei, die ihm die Monstranz entrissen, Spott mit ihm trieben, ihn aber als Priester doch wieder frei ließen. vei untergehender Sonne verstummten allmählich Lärm und waffen- geklirr der Schlacht, die stch in der kurzen Zeit von 1 y 2  Stunden entschieden hatte. 37\\n\\n€1ne Verfolgung des bereits über die Senfe und Saane geflüd)teten Fußvolkes und der auf Ihren Rolfen dem Tode entronnenen Ritter wurde nicht eingeleitet, da es den Bemern an der dazu notwendigen Reiterei fehlte. Auf dem Rückzug über die Saane wurden die nidauer und neuen« burger von knechten aus murten, die von einer Anhöhe westlich der Saane den Verlauf der Schlacht beobachtet hatten, beim Flußübergang angegriffen, wobei 60 Mann in den Fluß gesprengt wurden und ertranken. Nach der Überlieferung des „Conflictus Laupensis“, einer Darstellung des Caupenkrieges aus dem €nde des XIV. oder Anfang des XV. Jahrhunderts, soll die Zahl der Gefallenen 1500 betragen haben, während der zeitgenössische Johannes Ditoduranus, der Mönch von Minterthur, die Zahl der Toten mit 1000 angibt, darunter die Blüte der welschen und österreichischen Ritterschaft, für die Bedeutung, die von Seiten der Adelskoalition dem wattengang mit Bern beigemeffen wurde, spricht die große Zahl ihrer in der Schlacht umgekommenen hervorragenden Führer, die für die Vernichtung des aufstrebenden Berns Gut und Blut eingesetzt hatten. Darunter befanden sich die Grafen Gerhard von Dalangin, Rudolf von Nidau, der junge Graf Johann von Saooyen und viele andere edle bedeutender Geschlechter. Auch die freiburger hatten schwere Verluste zu beklagen; neben sämtlichen Bannerträgern fielen Frei« burgs Schultheiß Johann von Maggenberg sowie eine große Zahl seiner verwandten und freunde. Der wegen seiner tzabfucht berüchtigte Graf Peter von Aarberg hat an der Schlacht nicht teilgenommen; ihm war der Schutz des Ariegstroffes anvertraut, mit dem er sich, als die Reihen feiner verbündeten zu weichen begannen, nach Aarberg aus dem Staube machte. Line viel geringere Zahl von Toten als ihre Feinde hatten die Berner und ihre tapfern Freunde aus den JDaldftätten und Solothum zu beklagen. )m „Schlachtjahrzeit von Uri“ ist über einige in der Caupen- fchlacht gefallene Unter folgender Eintrag enthalten: „Jtem auf Mentag, was der X tufend Rittertag Rbet (am Abend) im Jahr des ßerren MCCCXXXVIIII befchach der Stritt zuo Coupen. Da bellben (kamen 38\\n\\nt r H t - V X-> V r 4 ^-r U- — ,- -4 r =s H ^ >> H ^ oo r5  tf. * 1 L ;y? jf-*- 4S3nSg\\n\\nKÄM \\'* s  rr: t \" • %,\"\\' f ~ * ^ - , \\' \\' -“.r > __ , \\\\/f  / ■? -f * * ±T ‘ * . ... 5_ \\'ZriA..*\\'. .\", ,J  - y 7. .... £ .. ,?<*\\'■. ^ZL^MLAN rMK-tz ir*5 s :*; ^ \\\\ y ■ ¥,-i j ^gyjs-> •» «$  i, f * ; *\\' * * ^ —\\'*• \\'- \"WÄ, ^ v •■ . . iüijsißJPs\"? . .. .. ■ ***&’. IV \\'■ * ■ \\' ,; ,:;-i :’V;ijt? ! \\'‘:\\' \\' \"■ - \" Sf*: .K.> - M. » \\' TL ’^6ä- \\'\\'-\\n\\nums Leben) Heini Zuo dem Brunnen (aus einer Familie, die dem Lande Url vier Candammänner gestellt hat und 1743 irn Mannesstamme ausgestorben ist), Cuonrad an der Gand von Sebattdorf, weite Rundere Lohn am Hosacker im Schächental und Walter wässler von Bürgten\", alle ebenfalls FlngehSrige ausgestorbener Geschlechter, über die Gefallenen der übrigen Urkantone sowie der Berner, 5immentaler und Oberhasler Nnd leider keine Aufzeichnungen vorhanden. UrwüchNge Kraft und Kriegszucht der Bemer und ihrer verbündeten, die beseelt waren vorn vertrauen aus die Hilfe des Allmächtigen und erfüllt von der Sorge um die Besatzung von Laupen und all der in Bern zurückgebliebenen verwandten und Freunde, haben bei bewährter Führung den Sieg über den hochmütigen und hahersüllten, aus allen Gegenden des Landes zusammengewürfelten Feind davongetragen, vie Nacht verbrachten die Negreichen Berner nach altem Brauch aus dem Schlachtfeld, und hier war es, wo sie ihren Freunden aus den Waldstätten mit Herz und Hand dankten und gelobten, auch ihnen in Zeiten der Not mit Leib und Gut beizustehen. Gleichzeitig wurde ihnen eine Entschädigung für ihre Hilfeleistung verheihen, für die Ne mit folgender Urkunde, ausgestellt am 3. August 1339 in Stans, quittierten und dankten: „Allen, die dlsen briet sehent oder Hörens lesen, Kunden wir, die lant- lütte von llre, Swih und llnderwalden, die mit unfern EitgenoNen von Berne für Loppen waren, daz uns die selben burger von Berno gerietet und gewert hant (ausgerichtet und gewährt) allen den schaden, den wir da enphiengen an rossen, an Harnasch und andren dingen, als es zu Bern surschriben wart; und sagen sl darumb ledig an dlsem gege- wurtigem briete, den wir dengelt haben mit unserer gemeinden inNgel; der geben wart zu Stans, in dem jare, du man zahlte von Gottes geburtt dricehen hundert drihig jar, und dar nach in dem nünden jare, an dem dritten tage Ougsten.“ )n einer fernern Urkunde vorn 20. Dezember 1339 bezeugen die Landleute von Url, von den Bernern die Summe von dritthalbhundert Pfund (nach heutigem Geldwert ungefähr Fr. 50 000.—) erhalten zu haben, die als Schlachtsold anzusprechen Nnd. vie Besatzung von Laupen erhielt vorn erfolg der bemischen Waffen erst mit dem Einzug der Negreichen Truppen erlachs in die Burg und 39\\n\\nStadt stünde, da ihnen die Sicht nach dem Bramberg durch den Caupen« waid verdeckt, und auch der Schlachtlärm nicht bis zu ihnen gedrungen war. flrn Tage nach der Schiacht, dem 10000 Rittertag, wurden die Toten in Massengräbern beigeseht und den freiburgern entboten, «wer die toten iichnarn von dannen füren wolte, der solt frid und geleit haben dar und dannen (beim stommen und Geben) und libes und gutes getrost sin“ (an Leib und Gut geschützt fein), woraus von den freiburgern eine grobe Zabl erschlagener Ritter „und vii ander erber (ehrbare) lüten“ zu anderweitigem Begräbnis abgeholt wurden. Slegesfrob, beladen mit reicher Beute, worunter 27 Banner und 80 gekrönte Helme und Rüstungen, köstliche Gewänder, Pferde usw., und wiederum im Besitze der Monstranz, die dem Ceutprlester entrissen worden war, kehrte von Erlach mit seinen tapfern Streitern und der Besatzung von Laupen nach Bern zurück, wo sie vorn Schuitheihen und allen Zurückgebliebenen mit Jubel und freude empfangen wurden. Ganz besonderer Dank und ehre wurden den Landleuten aus Uri, Scbroyz und Unterroalden erwiesen „und erbot man sich inen und iren ewigen nachkomen, das) man des groben dienstes und srüntschast niemerme wöite vergeben\", usw. Bern hat Wort gehalten, jm jähre 1353 ist es dem Bund der Eidgenossen beigetreten und hat ihm in den wechseivoiien Schicksalen der jahrhunderte unverbrüchliche Treue gehalten, fluch den hilssvölkern aus dem Rtederlimmental und ihrem führer Johann von Meibenburg, den Oberbasiern und den achtzehn Helmen aus Solotbum „wart allen lob und dank gefeit, und erbutten die von bern sich inen alweg ze tunde mit lip und gut (mit Leib und Gut), roaz inen liep nutz ere und dienst roere“ (zu Liebe, Nutzen, Ehre und Dienst gereiche). Zur ewigen Erinnerung an den glücklichen flusgang der Schlacht und zur Ehrung der Gefallenen ist der 10000 Rittertag zum hohen feiertag erklärt worden, an dem jemeilen in Bub- und Dankgebet die Gnade Gottes, die Bern aus höchster Not und Gefahr errettet hatte, gepriesen und gefeiert wurde. 40\\n\\nOv>  O, 6. Die Ereignisse nach der Schlacht bis zum frieclensschluh IDohl hatte Bern bei Caupen einen glänzenden Sieg errungen, doch fehlte ihm die Kraft, ihn auszunutzen. Seine feinde, in offener feidfchiacht besiegt, verlegten sich nun auf den Kleinkrieg, der sich in erster Linie gegen die freunde und Bundesgenossen Berns richtete, mit dem Zraeche, die Stadt auszuhungern und sie auf diesem Wege zu bezwingen. Die ersten kriegerischen Unternehmungen freiburgs, dessen leidenschaftliche Verbitterung gegen Bern durch die Niederlage bei Caupen und die dort erlittenen Verluste noch gesteigert worden war, richteten sich gegen die in seiner Nähe gelegene Stadt sBurten. Die Behörden von JBurten hatten, wie bereits dargestellt worden ist, bei den Alliierten die Anerkennung der Neutralität der Stadt erreicht, die aber von der Bevölkerung, die mit Bern sympathisierte, nicht respektiert wurde, entgegen dem verbot hatten Alurtner bei Caupen in den Reihen der Bemer gehämpft und sie auf jede weise unterstützt, und nach der Schlacht wurden fliehende Nidauer und Deuenburger beim Saaneübergang von Bürgern aus würfen angegriffen und 60 Mann getötet, ohne dah von Seiten der Stadt wurten eine Strafverfolgung veranlaht worden wäre. Auch die während und nach der Schlacht ununterbrochene Verprovian- tierung Berns war den freiburgern nicht unbekannt geblieben. Um ihre Nachbarn für ihr Verhalten zu züchtigen und sie an Leib und Gut zu strafen, nahmen die freiburger den als rücksichtslosen Draufgänger verrufenen Grafen Peter von Aarberg mit 5 Berittenen und 41\\n\\n4 Sdjütjcn In Ihre Dienste. Dieser unternahm gegen die freunde Berns verheerende Raubzüge. So überfiel er das zur Herrschaft fRurten gehörende Dorf fterzers, wobei die Kirche und 32 Häuser mit viel Werkzeug, Hausrat und feidfrüchten in flammen aufgingen, und plünderte und brandschatzte ferner die Dörfer müncbenroyler, fräfcbels, Büchslen usw. Ähnliche Streifzüge unternahmen die Nidauer und Erlacher und schädigten die Berner und ihre freunde auf jede nur mögliche weife. Unter dem Druck dieser Derbältniste waren murten, Blei, Peterlingen und Gugglsberg gezwungen, sich zur Wahrung ihrer Existenz von Bern loszusagen, und auch das treuerprobte Solothurn muhte feine Bundesgenosten preisgeben. Aber nicht nur bisherige freunde zogen sich von Bern zurück, sondern auch Untertanen gingen zum feinde über; so die Tbuner, wodurch die Lebensmittelversorgung Berns auch aus dem Oberland erschwert und gefährdet wurde. Die Unsicherheit wurde so grob, dah sich der Bürger nicht mehr getraute, die schützenden Stadtmauern allein zu verlassen und auch die Zufubr von Lebensrnitteln nur noch unter starker militärischer Bewachung und Begleitung möglich war. Das dem Schult- heihen von Bern gehörende Spiez hat damals den Bernem als Stapelplatz für waren aus dem Oberland grohe Dienste geleistet. Bern verhielt sich erstaun»cberroeise gegenüber den neuen, gefährlichen Umtrieben der frelburger vorerst abwartend. Gelähmt durch den Abfall so vieler freunde und den täglichen Kampf um die Derproviantierung der Stadt, wo die Lebensmittel knapp zu werden begannen, beschränkte stch Bern auf unbedeutende Gegenaktionen, bis endlich im frühjahr 1340 neue Zuversicht und Unternehmungslust erwachten und die mutlose Stimmung überwanden. Schultheih johann von Bubenberg stellte stch an die Spitze der kriege- rifchen Unternehmungen. In der Woche nach dem Palmsonntag erschien er mit dem berittenen Dortrupp des beimischen Auszuges unversehens vor dem styburglfcben, wohlbefeftigten Städtchen Huttwil, das noch vor dem Eintreffen der Hauptmacht durch Brandpfeile, harz- und pech- getränkte Bolzen, in Brand gefchosten und eingenommen wurde. 42\\n\\nProDiantzug der Berner w-\\'; - w - \\'&»+■ ♦ rt*  f*U ^ v-* ».‘ - äs- $■?»«**.* r-*» fi »» »> A4*> M Vn ^■*s!£z/Lrr*»22z:?*\\'* t P****r$r+*9* jk^ ’’4\"**.^i. /+ -»»- ^If«»>l .i ||)| 1 ‘s^i^TST* .\"17? s friedensuertrag zwischen der Stadt Bern und den herzögen von Österreich, abgeschlossen am 9. ftugust 1340 in Rönigsfelden Den Dertrag haben besiegelt: Die Königin Agnes von Ungarn, Graf Eberhard von ftyburg, Graf Peter von Barberg, die Stadt Bern, der Bischof von Bafel, Graf Hugo von Bucbegg, der Bischof von Konstanz, Bitter Burkbart von Eiierbach und Johannes von Barroangen\\n\\n* * - - 2\\'\\'4KR>W^AR?r?.\"- * \\' -;-.4\\' v \\'. . V. ‘..\\'V, ^ -^7-^, ^\\' \\' E • -•-- - i-vL.d.^E:4?\\'■%■\\' - >\\' -..• ., V--\\' \\'-M. \\'.^Y» r <> A\\n\\nNach diesem ersten, ermutigenden erfolg galt der zmeite Schlag der Stadt freiburg. kurz nach Ostern waren 40 „rösche\" (rüstige) Laupener plündernd in freiburglscbee Gebiet eingedrungen, von denen von den gewarnten freiburgern 22 erschlagen wurden. Um diese Tat zu rächen, besammelte Rudolf von erlach, der Sieger von Caupen, im Einverständnis mit dem Rat in aller Heimlichkeit und ohne Angabe des Zwecks einen harst junger Berner, mit denen er nach Justinger mit zwei Bannern am Abend des 20. April 1340 gegen freiburg aufbrach. Am Schönenberg gerieten die aus der Stadt herausgelockten freiburger in einen Hinterhalt und wurden von den Bernern empfindlich geschlagen, eine große Zahl flüchtender soll vor Erreichung der schützenden Stadtmauern in der Saane ertrunken fein. Der Rat zu Bern, der feine Entschluß- und Tatkraft wieder gefunden hatte, beschloß hieraus „man Kilte zeftunde (zur Stunde, sofort) mlderumb gen friburg ziechen und dem krieg ein ende geben“. Mit „ganßer macht“ zogen Ende April die Berner erneut vor freiburg und berannten die Stadt, wobei das Galternquartier auf dem rechten Ufer der Saane in flammen aufging. Auch bei diesem Überfall erlitt die Bürgerschaft von freiburg große Verluste an Gut und Blut, während die Berner slegesfroh, mit reicher Beute beladen, in die Aarestadt zurückkehrten. Zur Erinnerung an den glücklichen Ausgang dieser freiburger-Züge stifteten sie „got ze lobe und ze eren ein ewig messe in dem spital zu dankbarkeit der gnaden, so inen got an mengen enden erzögt (erzeigt) hat“. Als folge dieser Niederlagen entließen die freiburger ihren feldhaupt- mann, Graf Peter von Aarberg, der sich wohl als Senger und Brenner einen berüchtigten Namen gemacht hatte, jedoch einem kriegserfahrenen Gegner nicht gewachsen war. Jn Ritter Burkart von Ellerbach, dem österreichischen Bogt im Breisgau, erhielten die freiburger einen neuen „misen, notoesten“ Ritter zum Anführer, „mit des rate fi sich gern gerochen (gerächt) betten“. Doch Bern gelang es, feine neu errungene Stellung zu behaupten und zu festigen, während die Koalition seiner feinde an Erschöpfung auseinanderfiel. 43\\n\\neinen letzten Angriff auf Bern unternahmen die frelburger unter Führung ihres neuen Feldhauptmanns Ritter von ellerbach im Mai 1340. Durch Spione hatten sie vorn Auszug der Bemer in das Gebiet des Grafen von ftyburg Kundschaft erhalten und hofften, die von ihrer Hauptmacht entblöhte Stadt überrumpeln zu können. Der Plan rnih- lang. Die in Bern zurückgebliebenen Bürger, alt und jung, warfen sich den bis in die Bähe der Stadt vorgedrungenen Reiterfcbaren entgegen und zwangen sie zum Rückzug, auf dem alles vernichtet und verwüstet wurde, was ihnen in die Bände fiel. Auch die Bemer Barste blieben nicht müßig. Raubend und brennend zogen sie ins Lmmental, nach Burgdorf, Langenthal, hinunter bis Zofingen, ferner hinüber ins Seeland in das Gebiet der Grafen von Aarberg und nidau, usw. ein frifch-froher Raubzug wurde auch gegen das abtrünnige Thun unternommen, wo sich ein großer Barst rauflustiger Reisiger zusammengefunden hatte. Der Überfall gelang, doch nahmen die Thuner die Der- folgung der beutebeladen heimkehrenden Bemer sofort auf und erreichten sie in der Gegend von Allmendingen. Bier verschanzten sich die Bemer hinter einem Derhau und sandten einen Berittenen nach Bern „daz man an die großen Gloggen schlüge; das solt die oyende erschrecken“. Die Bemer hielten tapfer Stand »und indem do N sich manlich wertend“, erzählt juftinger, „do schlug man an die großen gloggen. Do das die oyend hörtend, do machten N sich wider heim“. Im Oberfimmental leisteten die Bemer ihrem treuen Mitbürger und Mitstreiter vor Caupen, dem Freiberrn von weitzenburg, Maffenhilfe gegen den Grafen von Greyerz, einen der erbittertsten Feinde Berns, dessen Feste Caubegg sie erstürmten und das Tal verwüsteten. Auch Jordan von Burgistein blieb seine kriegshetze gegen Bern nicht vergessen. €s wird uns überliefert, daß feine Späher am 21. Juni den Gang der Kampfhandlung am Bramberg beobachteten und ihrem Herrn den Stellungswechsel der Bemer beim Schlachtbeginn und die Flucht der „Förster“ eilends als Rückzug meldeten. Hocherfreut über die vermeintliche Niederlage der Bemer soll der Burg- 44\\n\\nHerr ausgerufen haben: „dls Ist ein guter lchmit der disen ktleg und dlh ding alles gefchmlt und angetragen hat\". Bald vemahm er andere Runde. Die Berner erschienen vor Burgittein „und alz der von bürgen- stein daz volk besechen woll und wie nach st mit der Katzen (Schirm- dach) hinzu triben wollen, zoch er sinen heim ab und guggot oben barab\". )n diesem Moment traf ihn der tödliche Pfeil des Schützen Ryffli. Das Dolk soll darauf frohlockt haben: „daz was ein guter lchmit, der den phil gefchmidet hat\". Burgittein fiel und wurde zerstört. Die Berner rechneten mit ihren feinden gründlich ab. überall, „wo N die Herren bi einanderen wiheten\", erschienen ihre kampferprobten Barste und plünderten und verwüsteten das Land. 45\\n\\nUjk/. 7. Der frieäenslchluh G efchwächt und ermüdet durch die andauernde Kriegsbereitschaft und die zahlreichen Auszüge, lehnte Nch freiburg nach frieden, und auch die Berner waren trotz ihres neu erwachten, sprichwörtlich gewordenen Kriegsglückes — der Herrgott selbst ist es, der für sie streitet und in Bern Bürger geworden ist, hietz es im Lande — ebenfalls der steten Kriegsführung, die ihre Stadt und Bürgerschaft an den Rand des finanziellen Ruins gebracht hatte, überdrüssig geworden. So wurde denn mit beidseltiger Bereitwilligkeit €nde Juli 1340 zwischen Bern und der Adelskoalition ein bis zum 9. August befristeter Waffenstillstand abgeschlossen, Am 4. August traten die friedensunterbändler der beiden Parteien im Kloster königsfelden zusammen. Die Leitung der friedensoerbandlungen lag in den Bänden der hochgesinnten Königin Agnes, der Äbtissin des Klosters, die schon 1333 zwischen freiburg und Bern vermittelt hatte. Die Hamen der friedensboten find uns nur teilweise überliefert. So fehlen die Hamen der bernischen und freiburgischen Gesandten; doch ist mit Sicherheit anzunehmen, dah an der Spitze der bemischen Abordnung der gewandte und erfahrene Schultheitz lohann von Bubenberg stand. Habsburg-Dsterreich war vertreten durch den feldhauptrnann Ritter Burkart von Cllerbach, den Bischof von Konstanz, Hiklaus von kentzin- gen und den Ritter johannes von Aarwangen, Bogt im Schwarzwald, die gleichzeitig die Interessen der Grafen von ßyburg, von Hidau und von Aarberg zu wahren hatten. Die Grafen von Greyerz, von der 46\\n\\nJDaadt und von Neuenburg bezeichneten als ihre Vermittler die frei» burgifchen Unterhändler. Vas Reich, d. h. der Kaiser und König, war nicht vertreten, Am 9. August 1340 wurde der friedensoertrag Zwilchen Bern und den herzögen von Österreich und ihren Vasallen abgeschlossen und besiegelt, eine Ausfertigung dieser „Richtung“ verwahrt das her- nische StaatsarchiD; eine andere besitzt die Stadt Thun. Dieser friedensoertrag brachte die Anerkennung der bisherigen Herr- schasts- und Besitzverhältnisse der Stadt Bern, die im Caupenkrieg keinen Zuwachs erfahren hatten. Die im kriege und in den darauffolgenden Streifzügen erlittenen Verluste und Schäden hatte jede Partei selbst zu tragen; die Gefangenen wurden gegenseitig ausgetauscht, usw. )n der für die Feudalherren um Bern lebenswichtigen Frage der Aufnahme von Ausbürgern, d. h- von Angehörigen fremder Herrschaften in das herrsche Bürgerrecht, ohne Verpflichtung, in der Stadt Wohnsitz zu nehmen, zeigte Bern das gewünschte entgegenkommen mit der Aufgabe der Einbürgerung von sogenannten Pfahlbürgern. Dafür wurde auf der Gegenseite auf die Rückforderung von Herrschaftsleuten, die jähr und Tag in Bern niedergelassen waren, verzicht geleistet. Ferner wurde vereinbart, „daz die vorbedachten bürgere von berne werben sullent umbe unsferz lieben berren dez kaisserz hulde und gnad“, d. b. datz sie Ludwig den Bayer als deutschen König und Kaiser anerkennen sollten, wobei ihnen die herzöge von Österreich ihre Unterstützung versprachen. endlich einigte man sich für die Beilegung von Streitigkeiten, die sich in den nächsten fünf jähren zwischen Bern und Österreich oder den Grafen von kyburg, von Didau und Aarberg erheben könnten, auf ein schiedsgerichtliches Verfahren. Die Stadt Freiburg war infolge der ablehnenden Haltung ihrer Bundesgenossen, der Grafen von Greyerz, von der JDaadt und von Neuenburg, diesem Friedensschluß nicht beigetreten, sondern es gelang lediglich, ihren mit Bern eingegangenen Waffenstillstand bis zum 29. September 1340 zu verlängern. Mit dem Friedensschluß mit Österreich und feinen Vasallen war für Bern, ganz abgesehen von seinen militärischen erfolgen, eine sehr günstige 47\\n\\nGrundlage für die Verhandlungen mit seinen übrigen feinden geschaffen. freiburg und feine verbündeten, entblößt von der Heerfolge Österreichs und feiner Nachbarn Im Seeland, traten am letzten Tag des Waffenstillstandes dem frieden von Bern mit Österreich auf fünf jähre bei, worauf sich Zwischen den beiden Zäbringerftädten wieder freund- nachbarliche Beziehungen anbahnten. flm 6. Juni 1341 kamen die Vertreter von Bern und freiburg zu neuen Verhandlungen in überftorf zusammen, wo die alten Bünde der beiden Städte erneuert wurden. Gleichzeitig trat freiburg dem ftönlgsfelder« frieden vorn 9. August 1340 unbefristet bei. fluch mit frelburgs Bundesgenossen kam im Laufe der nächsten Jahre eine Versöhnung zustande; einzig die Grafen Ludwig von der JDaadt und Rudolf von Neuenburg bebarrten In Ihrer feindscbaft gegen Bern, da sie von der neuausblühenden und gekräftlgten Stadt nicht unmittelbar bedroht waren. Den Abschluß der bedeutsamen und schwierigen friedensoerbandlungen krönte die Erneuerung des alten Bundes mit den glelchgeflnnten, guten freunden in Solotbum. So ging die Stadt Bern aus den schweren politischen Kämpfen und kriegerischen Verwicklungen neugestärkt und mit den aussichtsreichsten Voraussetzungen für eine weitere gedeihliche Entwicklung hewor, die Nch glänzend erfüllt haben. Unbeirrbare Zuversicht in die göttliche Gerechtigkeit, unbegrenzter Opfermut und rückhaltloses vertrauen in ihre hervorragenden führer haben die Berner zum Sieg bei Caupen und zum weitem erfolgreichen Aufstieg befähigt und auch In den folgenden Jahrhunderten die Größe und Stärke der Stadt und Republik Bern gewährleistet. Mit der bei Caupen politisch und militärisch errungenen Stellung hat Bern nicht nur den Grund zur weitem glänzenden Entwicklung unserer engern Heimat, sondern der ganzen Eidgenossenschaft gelegt. 48\\n\\nLaupenlchlachtleiern )m Jabrc 1853 hat die dankbare Nachwelt den tzelden von Caupen auf dem Bramberg ein Denkmal errichtet, dessen Schlußstein am 12. September eingesetzt worden ist. Das einfache Monument trägt die Inschrift: „In memoriam proelii Laupensis e quo Bernenses cum sociis die XXI Junii MCCCXXXIX victores discessere.“ (Zum findenden an die Schlacht bei Caupen, aus der die Denier mit ihren Dundesgenollen am 21. Juni 1339 als Sieger hervorgingen.) Die erste Caupenfchiachtfeier fand am 28. Juni 1818 auf Deraniaffung des Durgerieiftes der Stadt Dem auf dem Dramberg statt. Dieser bürgerliche herein war in der Reftaurationszelt, als mit dem Sturze Napoleons die fränkische Bevormundung der Schweiz aufgehött hatte» zum beffem Zufammenfchiuh der Durgerfchaft und zur Wiederbelebung und Pflege vaterländischer Gesinnung gegründet worden. Jm alten Dem kannte man eigentliche Schiachtfeiem nicht, sondern es wurde die Lrinnerung an glorreiche läge und Degebenheiten der Ge« fchichte der Stadt bei den Ofteraufzügen durch entsprechende Gruppen und Darstellungen wachgehalten, bei denen vor allem die Zünfte und der sogenannte „ftufjere Stand, ein fcherzreiches und doch argloses Nachbild der obrigkeitlichen Behörde\", mitwirkten und den Mittelpunkt der Deranftaitungen bildeten. Mit dem Untergang der alten Stadt und Republik Dem ist auch der Glanz der bis dahin üblich gewesenen Ofter- feftüchkeiten erloschen, was von der Devöikerung zu Stadt und Cand bedauert wurde. 49\\n\\np I Die erste Sd)lad)tfeler auf dem ßramberg war In allen Einzelheiten aufs sorgfältigste vorbereitet und nahm einen glänzenden Verlauf. Schon damals wurde die Errichtung eines Schlachtdenkmals geplant und das hierfür erforderliche Grundstück auf dem ßramberg erworben. Den Höhepunkt der feier bildete die Grundsteinlegung für dieses Monument in form eines Maueroierecks, in dessen Mitte vorerst eine sänne gepflanzt wurde. Ein Wettbewerb für die Erlangung von Entwürfen für das Denkmal fand erst nach flufnung der notwendigen Geldmittel im lahre 1828 statt. fln dieser Laupenfchlachtfeier ertönte zum ersten Mal unser „Rufst du mein Vaterland\", das ). R. IDylj d. j. auf diesen flnlafj als „Kriegslied für schweizerische Daterlandsoerteldlger“ gedichtet hatte und das nach der Melodie der englischen Königshymne: „God fave the King\" gesungen wurde. Der Komponist dieser Hymne ist der Engländer Earey, der eine Zeitlang an der englischen Kirche in Genf als Organist tätig war. Don dem bekannten ßerner Münzmeister fueter war auf das fahr 1789 eine Denkmünze auf den Laupenkrieg gestochen worden, die aber da- mals nur in wenigen Exemplaren bekannt geworden ist. Diese Medaille wurde für die Laupenfchlachtfeier 1818 geprägt und gelangte an die Veranstalter des Gedenktages und die Mitglieder des ßurgerleistes in beschränkter flnzahl zur flusgabe. Auf der einen Seite steht nach zeit- genöffifcher ßefchreibung die Schuhgöttin des belagerten Laupens mit einem Schild, den die Wappen von ßern, Uri, Schwyz, ünterroalden, Soiothurn, Oberhasli und niederslmmental schmücken, fluf der Kehrseite erinnern Schlachttrophäen, ein gekrönter Helm, Schwerter, halle- barden usw. mit dem Wappenschild des Grafenhaufes von Neuenburg an den Negreichen Kampf auf dem ßramberg. Die erste Laupenfchlachtfeier hatte in der ßevölkerung einen derartigen Widerhall gefunden, dah Ne schon im darauffolgenden fahr und alsdann 1824 und 1829 unter außerordentlicher ßetelllgung von Stadt und Land wiederholt werden konnte. Der 500-jährige Gedenktag der Laupenfchlacht fiel in eine Zelt politischer Siedehitze, in der sich die Parteien gegenseitig aufs heftigste bekämpften 50 I\\n\\nund an eine gemeinsame behördlich organisierte feier nicht zu denken war. wiederum war es der vurgerleilt, der in die Lücke trat und die Schlachtteier durchführte, an der über 10 000 Personen teilgenommen haben. vie letzte Laupenschlachtkeier fand Sonntag, den 23. )uni 1889 in Laupen statt, an die sich noch viele unserer Mitbürger mit freuden erinnern. Möge auch über der 600-jdhrigen Schlachtfeier ein gütiger Stern leuchten und die Erinnerung an die glorreiche, opkermutige lat der Helden von Laupen in uns allen die Liebe und Ireue zu Heimat und Vaterland immer auk\\'s neue entflammen. 51\\n\\nZu den Bildern Die historischen, bildlichen Darstellungen sind der Illustrierten Stadt« chronlk des Diebold Schilling entnommen. Diebold Schilling stammte aus Solotbum. €r war Notar und amtete von 1456 bis 1458 als Subftitut auf der Stadthanzlei Cuzern. 1460 kam er nach ßern und erhielt die Stelle eines Unterschreibers, wurde 1476 Seckelfchrelber und 1481 Gericbtsfcbreiber und starb als solcher 1485. Ruf Beschluß der Räte, Nenner, heimlicher und des Groben Rates (C C) unter dem Dorsltz des Schultheißen Adrian von ßubenberg wurde am Montag vor Frauentag zu Lichtmeß 1474 (31. Januar) dem Unterschrei« ber Diebold Schilling der Auftrag zur Abfassung einer Stadtchronik erteilt. Sie besteht aus drei Bänden mit 600 Illustrationen. Der sogenannte Spiezer-Scbllling ist eine von Diebold Schilling zwischen 1480 und 1485 für den Schultheißen Rudolf von Erlach erstellte Kopie des ersten und zweiten Bandes, umfassend die Zelt bis 1465. Da die Schillingsche Chronik erst €nde des XV. Jahrhunderts entstanden Ist, entsprechen auch ihre bildlichen Darstellungen vorn Laupenkrleg in bezug auf Bewaffnung und Ausrüstung der Krieger usw. nicht der Zelt um 1339, sondern einer spätern Periode. Die Ansicht von Schloß und Städtchen Laupen ist ein Bild von Albrecht kaum, der seit 1640 als angesehener Maler in Bern tätig war. Don Ihm stammt eine größere Sammlung von Ansichten bernlscher Schlösser. Die miedergegebenen Urkunden befinden sich Im Staatsarchiv und sind in den beimischen Geschichtsquellen (Fontes Rerum Bernensium) abgedruckt. Die Fllegeraufnabme vorn Schlachtfeld auf dem Bramberg sowie die entsprechende Kartenskizze sind eine Festgabe der Schweizerischen Landestopographie. Dem Staatsarchiv, der Stadt« und Hochfchulbibliothek sowie der Schweizerischen Landestopographie sei auch an dieser Stelle der verbindlichste Dank für ihr Entgegenkommen ausgesprochen. vierte Umschlagseite Siegel Rudolf von Erlach. Latz uncl Druck des Textteiles: Bud)drucherel Dr. Gultaü Grunau - Umfdjlagzeldjnung: Frit) Traffelet - Kopfleisten: Firmln Bleber - Klischees: Bufag fl. G. - lllultrationsdrucft: k. 1. wyh Lrben FUG. - Druck des Umschlages: polygraphische Gesellschaft Laupen - Gestaltung: Schul» und Büromaterlalverwaltung der Stadt Bern 52\\n\\nDas Scblacbtdenkmal auf dem Bramberg N \\' • V \\'*Ä Denkmünze an die Laupenfchlacht vorn Jaljre 1789 gestochen von iBünzmeltter fueter .11 K 4 MX’*\\' m.  u >. g x x xi \\\\ Mxxt.r irr*^\\n\\n»\\'■■SSSW\\' • i p/Ä. S-KM8 MSLML •.... MDNSMW« Es-LMssM UM UM\\' \\'MW\\' «fc WM *TJ^\\' “ \\'. »• r7 k V- iig-7\\': .,» tf f ID8 Bibliotheken Bern y l. BM 1 276 665': ''}"
      ]
     },
     "execution_count": 38,
     "metadata": {},
     "output_type": "execute_result"
    }
   ],
   "source": [
    "# Check e-rara JSON example with fulltext\n",
    "with open('content/processed/bernensia_json_fulltexts/2069554.json') as f:\n",
    "  dic = json.load(f, encoding='utf-8')\n",
    "dic"
   ]
  },
  {
   "cell_type": "markdown",
   "id": "47b9771e",
   "metadata": {},
   "source": [
    "### Transform e-periodica XML to JSON with inserting full texts - remote: S3 -> S3"
   ]
  },
  {
   "cell_type": "code",
   "execution_count": 75,
   "id": "ef03af5b",
   "metadata": {},
   "outputs": [
    {
     "name": "stdout",
     "output_type": "stream",
     "text": [
      "Completed 12.8 KiB/12.8 KiB (55.4 KiB/s) with 1 file(s) remaining\n",
      "download: s3://bgd-content/eperiodica-txt/zgh-001:1939:1::294.txt to content\\test3.txt\n"
     ]
    }
   ],
   "source": [
    "# from local\n",
    "! aws s3 cp s3://bgd-content/eperiodica-txt/zgh-001:1939:1::294.txt content/test3.txt"
   ]
  },
  {
   "cell_type": "code",
   "execution_count": 15,
   "id": "44e5af6a",
   "metadata": {},
   "outputs": [],
   "source": [
    "def transform_to_json(id_intern):\n",
    "    '''\n",
    "    Takes XML files from S3, reads defined contents out to a JSON file, and inserts fulltexts in this JSON file\n",
    "    by dedicated TXT files.\n",
    "    \n",
    "    :param id_intern: internal identifier of e-periodica item\n",
    "    '''\n",
    "    id_underline = id_intern.replace(':', r'_')\n",
    "    ! aws s3 cp s3://bgd-content/eperiodica-xml/zgh${id_underline}.xml metadata.xml\n",
    "    with open('metadata.xml', 'r', encoding='UTF-8') as f:        \n",
    "        obj = xmltodict.parse(f.read())\n",
    "    if 'getrecord' in obj['html']['body']['oai-pmh']:\n",
    "        #identifier = obj['html']['body']['oai-pmh']['getrecord']['record']['header']['identifier']\n",
    "\n",
    "        # identifier for e-periodica XML\n",
    "        #match = re.search('oai:agora.ch:(\\S+)', identifier)       # extract the identifier\n",
    "        #if match:\n",
    "            #identifier = match.group(1)     # first parenthesized subgroup of group() = number\n",
    "            #identifier = identifier.replace(':', r'_')\n",
    "\n",
    "        # identifier for e-rara XML\n",
    "        #match = re.search('oai:www.e-rara.ch:(\\d+)', identifier)     # extract the identifier number\n",
    "        #if match:\n",
    "            #identifier = match.group(1)     # first parenthesized subgroup of group() = number\n",
    "\n",
    "        # read out metadata, delete certain fields and add 'id-intern' field\n",
    "        metadata = obj['html']['body']['oai-pmh']['getrecord']['record']['metadata']['oai_dc:dc']\n",
    "        del_fields = ['@xmlns:dc', '@xmlns:oai_dc', '@xmlns:xsi', '@xsi:schemalocation']\n",
    "        [metadata.pop(field) for field in del_fields]\n",
    "        metadata.update({\"id_intern\": id_intern})\n",
    "\n",
    "        dic_new = {}\n",
    "        for key in metadata.keys():\n",
    "            match = re.search('dc:(\\w+)', key)      # extract field names without 'dc_' beginning\n",
    "            if match:\n",
    "                key_new = match.group(1)     # first parenthesized subgroup of group() = content\n",
    "            else: \n",
    "                key_new = key\n",
    "                    #key_new = key.replace(':', r'_')    # easier alternative to get rid of ':'\n",
    "            value = metadata.get(key)\n",
    "            dic_new.update({key_new: value})\n",
    "                \n",
    "        # write full text into JSON file while omiting the cover page content\n",
    "        try:\n",
    "            ! aws s3 cp s3://bgd-content/eperiodica-txt/zgh${id_intern}.txt fulltext.txt\n",
    "            with open('fulltext.txt', 'r', encoding='UTF-8') as f:\n",
    "                text = f.read()\n",
    "            match = re.search(r'(\\S+)\\n\\nhttp://www.e-periodica.(\\w{2})\\n\\n\\n\\n\\n', text) #.ch\\n\\n\\n\\n\\n\n",
    "            fulltext = text.split(match.group())[1]\n",
    "            dic_new['fulltext'] = fulltext\n",
    "        except: pass\n",
    "            \n",
    "        dump = json.dumps(dic_new)\n",
    "        with open('metadata.json', 'w') as f:\n",
    "            f.write(dump)\n",
    "        ! aws s3 cp metadata.json s3://bgd-content/eperiodica-json-fulltext/zgh${id_intern}.json\n",
    "    else: pass\n"
   ]
  },
  {
   "cell_type": "code",
   "execution_count": 83,
   "id": "dce119ae",
   "metadata": {},
   "outputs": [
    {
     "name": "stdout",
     "output_type": "stream",
     "text": [
      "download: s3://bgd-content/eperiodica-xml/zgh-002_2018_80__405.xml to ./metadata.xml\n",
      "download: s3://bgd-content/eperiodica-txt/zgh-002:2018:80::405.txt to ./fulltext.txt\n",
      "upload: ./test.json to s3://bgd-content/eperiodica-json-fulltext/zgh-002:2018:80::405.json\n"
     ]
    }
   ],
   "source": [
    "transform_to_json('zgh-002:2018:80::405')"
   ]
  },
  {
   "cell_type": "code",
   "execution_count": 22,
   "id": "bcbb094e",
   "metadata": {},
   "outputs": [],
   "source": [
    "# with preventing print output\n",
    "with io.capture_output() as captured:\n",
    "    transform_to_json('zgh-002:2018:80::405')"
   ]
  },
  {
   "cell_type": "code",
   "execution_count": 23,
   "id": "06dcc9ef",
   "metadata": {},
   "outputs": [
    {
     "data": {
      "text/html": [
       "<div>\n",
       "<style scoped>\n",
       "    .dataframe tbody tr th:only-of-type {\n",
       "        vertical-align: middle;\n",
       "    }\n",
       "\n",
       "    .dataframe tbody tr th {\n",
       "        vertical-align: top;\n",
       "    }\n",
       "\n",
       "    .dataframe thead th {\n",
       "        text-align: right;\n",
       "    }\n",
       "</style>\n",
       "<table border=\"1\" class=\"dataframe\">\n",
       "  <thead>\n",
       "    <tr style=\"text-align: right;\">\n",
       "      <th></th>\n",
       "      <th>Column 1</th>\n",
       "      <th>Column 2</th>\n",
       "      <th>size</th>\n",
       "      <th>id_intern</th>\n",
       "      <th>file</th>\n",
       "    </tr>\n",
       "  </thead>\n",
       "  <tbody>\n",
       "    <tr>\n",
       "      <th>915</th>\n",
       "      <td>2021-09-26</td>\n",
       "      <td>14:17:46</td>\n",
       "      <td>0 Bytes</td>\n",
       "      <td>zgh-002:2020:82::295</td>\n",
       "      <td>zgh-002:2020:82::295.pdf</td>\n",
       "    </tr>\n",
       "    <tr>\n",
       "      <th>916</th>\n",
       "      <td>2021-09-26</td>\n",
       "      <td>14:17:47</td>\n",
       "      <td>0 Bytes</td>\n",
       "      <td>zgh-002:2020:82::296</td>\n",
       "      <td>zgh-002:2020:82::296.pdf</td>\n",
       "    </tr>\n",
       "    <tr>\n",
       "      <th>917</th>\n",
       "      <td>2021-09-26</td>\n",
       "      <td>14:17:48</td>\n",
       "      <td>0 Bytes</td>\n",
       "      <td>zgh-002:2020:82::303</td>\n",
       "      <td>zgh-002:2020:82::303.pdf</td>\n",
       "    </tr>\n",
       "    <tr>\n",
       "      <th>918</th>\n",
       "      <td>Total Objec</td>\n",
       "      <td>ts: 919</td>\n",
       "      <td>NaN</td>\n",
       "      <td>NaN</td>\n",
       "      <td>NaN</td>\n",
       "    </tr>\n",
       "    <tr>\n",
       "      <th>919</th>\n",
       "      <td>Total Si</td>\n",
       "      <td>ze: 8.9 G</td>\n",
       "      <td>iB</td>\n",
       "      <td>NaN</td>\n",
       "      <td>NaN</td>\n",
       "    </tr>\n",
       "  </tbody>\n",
       "</table>\n",
       "</div>"
      ],
      "text/plain": [
       "        Column 1   Column 2         size             id_intern  \\\n",
       "915  2021-09-26   14:17:46      0 Bytes   zgh-002:2020:82::295   \n",
       "916  2021-09-26   14:17:47      0 Bytes   zgh-002:2020:82::296   \n",
       "917  2021-09-26   14:17:48      0 Bytes   zgh-002:2020:82::303   \n",
       "918  Total Objec    ts: 919          NaN                   NaN   \n",
       "919     Total Si  ze: 8.9 G           iB                   NaN   \n",
       "\n",
       "                         file  \n",
       "915  zgh-002:2020:82::295.pdf  \n",
       "916  zgh-002:2020:82::296.pdf  \n",
       "917  zgh-002:2020:82::303.pdf  \n",
       "918                       NaN  \n",
       "919                       NaN  "
      ]
     },
     "execution_count": 23,
     "metadata": {},
     "output_type": "execute_result"
    }
   ],
   "source": [
    "with open('eperiodica_files.csv', 'r') as f:\n",
    "    df = pd.read_csv(f)\n",
    "df.tail()"
   ]
  },
  {
   "cell_type": "code",
   "execution_count": 29,
   "id": "6fe0bda7",
   "metadata": {},
   "outputs": [],
   "source": [
    "with io.capture_output() as captured:\n",
    "    for i in df.index:\n",
    "        id_intern = df.id_intern[i]\n",
    "        transform_to_json(id_intern)"
   ]
  },
  {
   "cell_type": "code",
   "execution_count": 36,
   "id": "9e656719",
   "metadata": {
    "ExecuteTime": {
     "end_time": "2021-10-04T07:26:43.407291Z",
     "start_time": "2021-10-04T07:26:42.838443Z"
    }
   },
   "outputs": [
    {
     "name": "stdout",
     "output_type": "stream",
     "text": [
      "917\n"
     ]
    },
    {
     "data": {
      "text/plain": [
       "['eperiodica-json-fulltext/',\n",
       " 'eperiodica-json-fulltext/zgh-001:1939:1::293.json',\n",
       " 'eperiodica-json-fulltext/zgh-001:1939:1::294.json',\n",
       " 'eperiodica-json-fulltext/zgh-001:1939:1::295.json',\n",
       " 'eperiodica-json-fulltext/zgh-001:1939:1::296.json']"
      ]
     },
     "execution_count": 36,
     "metadata": {},
     "output_type": "execute_result"
    }
   ],
   "source": [
    "# Check amount of objects in AWS S3\n",
    "s3 = boto3.client('s3')\n",
    "response = s3.list_objects(Bucket='bgd-content', MaxKeys=1000, \\\n",
    "                           Prefix='eperiodica-json-fulltext/')    #bernensia-json-fulltext/\n",
    "print(len(response['Contents']))\n",
    "keys = []\n",
    "for i in response['Contents'][0:5]:\n",
    "    keys.append(i['Key'])\n",
    "keys"
   ]
  },
  {
   "cell_type": "code",
   "execution_count": 21,
   "id": "8fd4f55b",
   "metadata": {},
   "outputs": [
    {
     "data": {
      "text/html": [
       "\n",
       "        <iframe\n",
       "            width=\"970\"\n",
       "            height=\"300\"\n",
       "            src=\"https://www.e-periodica.ch/oai?verb=GetRecord&metadataPrefix=oai_dc&identifier=oai:agora.ch:zgh-001:1977:39::176\"\n",
       "            frameborder=\"0\"\n",
       "            allowfullscreen\n",
       "        ></iframe>\n",
       "        "
      ],
      "text/plain": [
       "<IPython.lib.display.IFrame at 0x7f344e602100>"
      ]
     },
     "execution_count": 21,
     "metadata": {},
     "output_type": "execute_result"
    }
   ],
   "source": [
    "# XML file 'zgh-001_1977_39__176' without content stems from source platform problem\n",
    "IFrame('https://www.e-periodica.ch/oai?verb=GetRecord&metadataPrefix=oai_dc&identifier=oai:agora.ch:zgh-001:1977:39::176', \\\n",
    "       width=970, height=300)"
   ]
  },
  {
   "cell_type": "markdown",
   "id": "b6791a4a",
   "metadata": {},
   "source": [
    "### Transform e-periodica XML to JSON without fulltexts - local"
   ]
  },
  {
   "cell_type": "code",
   "execution_count": 18,
   "id": "b7b1b437",
   "metadata": {},
   "outputs": [],
   "source": [
    "# make JSON file from e-periodica XML file via dict\n",
    "path = 'content/raw/metadata/xml_eperiodica/'\n",
    "\n",
    "for file in os.listdir(path):\n",
    "    if file.endswith('.xml'):\n",
    "        with open(path + file, 'r') as file:\n",
    "            obj = xmltodict.parse(file.read())\n",
    "            if 'getrecord' in obj['html']['body']['oai-pmh']:\n",
    "                identifier = obj['html']['body']['oai-pmh']['getrecord']['record']['header']['identifier']\n",
    "\n",
    "                # identifier for e-periodica XML\n",
    "                match = re.search('oai:agora.ch:(\\S+)', identifier)      # extract the identifer following 'oai:www.e-rara.ch:'\n",
    "                if match:\n",
    "                    identifier = match.group(1)     # first parenthesized subgroup of group() = number\n",
    "                identifier = identifier.replace(':', r'_')\n",
    "\n",
    "                # identifier for e-rara XML\n",
    "                #match = re.search('oai:www.e-rara.ch:(\\d+)', identifier)      # extract the number following 'oai:www.e-rara.ch:'\n",
    "                #if match:\n",
    "                    #identifier = match.group(1)     # first parenthesized subgroup of group() = number\n",
    "\n",
    "                # read out metadata, delete certain fields and add 'id-intern' field\n",
    "                metadata = obj['html']['body']['oai-pmh']['getrecord']['record']['metadata']['oai_dc:dc']\n",
    "                del_fields = ['@xmlns:dc', '@xmlns:oai_dc', '@xmlns:xsi', '@xsi:schemalocation']\n",
    "                [metadata.pop(field) for field in del_fields]\n",
    "                metadata.update({\"id_intern\": identifier})\n",
    "\n",
    "                dic_new = {}\n",
    "                for key in metadata.keys():\n",
    "                    match = re.search('dc:(\\w+)', key)      # extract field names without 'dc_' beginning\n",
    "                    if match:\n",
    "                        key_new = match.group(1)     # first parenthesized subgroup of group() = content\n",
    "                    else: \n",
    "                        key_new = key\n",
    "                    #key_new = key.replace(':', r'_')    # easier alternative to get rid of ':'\n",
    "                    value = metadata.get(key)\n",
    "                    dic_new.update({key_new: value})\n",
    "\n",
    "                dump = json.dumps(dic_new)\n",
    "                with open('content/processed/eperiodica_json/' + identifier +'.json', 'w') as file:\n",
    "                    file.write(dump)\n",
    "            else: pass\n",
    "    else: pass\n"
   ]
  },
  {
   "cell_type": "code",
   "execution_count": 19,
   "id": "65d01789",
   "metadata": {},
   "outputs": [
    {
     "name": "stdout",
     "output_type": "stream",
     "text": [
      "918\n"
     ]
    },
    {
     "data": {
      "text/plain": [
       "916"
      ]
     },
     "execution_count": 19,
     "metadata": {},
     "output_type": "execute_result"
    }
   ],
   "source": [
    "print(len(os.listdir('content/raw/metadata/xml_eperiodica/')))\n",
    "len(os.listdir('content/processed/eperiodica_json/'))"
   ]
  },
  {
   "cell_type": "code",
   "execution_count": 12,
   "id": "58e20f3d",
   "metadata": {},
   "outputs": [
    {
     "data": {
      "text/plain": [
       "'<?xml version=\"1.0\" encoding=\"UTF-8\"?><html><body><oai-pmh xmlns=\"http://www.openarchives.org/OAI/2.0/\" xmlns:xsi=\"http://www.w3.org/2001/XMLSchema-instance\" xsi:schemalocation=\"http://www.openarchives.org/OAI/2.0/ http://www.openarchives.org/OAI/2.0/OAI-PMH.xsd\">\\n<responsedate>2021-09-28T13:35:26Z</responsedate>\\n<request>https://www.e-periodica.ch/oai/dataprovider</request>\\n<error code=\"idDoesNotExist\"></error>\\n</oai-pmh></body></html>'"
      ]
     },
     "execution_count": 12,
     "metadata": {},
     "output_type": "execute_result"
    }
   ],
   "source": [
    "with open('content/raw/metadata/xml_eperiodica/zgh-001_1977_39__176.xml', 'r') as f:\n",
    "    md = f.read()\n",
    "md"
   ]
  },
  {
   "cell_type": "code",
   "execution_count": 119,
   "id": "4eee2852",
   "metadata": {},
   "outputs": [
    {
     "data": {
      "text/plain": [
       "{'title': 'Aus der Ur- und FrÃ¼hgeschichte von Spiez : ein Beitrag zur alpinen Siedlungsgeschichte',\n",
       " 'creator': 'Tschumi, O.',\n",
       " 'subject': None,\n",
       " 'description': None,\n",
       " 'publisher': 'Paul Haupt Bern',\n",
       " 'contributor': None,\n",
       " 'date': '1939',\n",
       " 'type': ['Text', 'Journal Article'],\n",
       " 'source': ['Berner Zeitschrift fÃ¼r Geschichte und Heimatkunde',\n",
       "  '280461-x',\n",
       "  '0005-9420',\n",
       "  '1',\n",
       "  '1939',\n",
       "  '1',\n",
       "  None,\n",
       "  '21'],\n",
       " 'language': None,\n",
       " 'relation': None,\n",
       " 'coverage': None,\n",
       " 'rights': None,\n",
       " 'format': ['text/html', 'application/pdf', 'text/html'],\n",
       " 'identifier': ['https://www.e-periodica.ch/digbib/view?pid=zgh-001:1939:1::294',\n",
       "  'https://www.e-periodica.ch/cntmng?type=pdf&pid=zgh-001:1939:1::294',\n",
       "  'doi:10.5169/seals-237635'],\n",
       " 'id_intern': 'zgh-001_1939_1__294'}"
      ]
     },
     "execution_count": 119,
     "metadata": {},
     "output_type": "execute_result"
    }
   ],
   "source": [
    "# Check e-periodica JSON example\n",
    "with open('content/processed/eperiodica_json/zgh-001_1939_1__294.json') as f:\n",
    "  dic = json.load(f, encoding='utf-8')\n",
    "dic"
   ]
  }
 ],
 "metadata": {
  "kernelspec": {
   "display_name": "Python 3 (ipykernel)",
   "language": "python",
   "name": "python3"
  },
  "language_info": {
   "codemirror_mode": {
    "name": "ipython",
    "version": 3
   },
   "file_extension": ".py",
   "mimetype": "text/x-python",
   "name": "python",
   "nbconvert_exporter": "python",
   "pygments_lexer": "ipython3",
   "version": "3.8.5"
  },
  "toc": {
   "base_numbering": "0",
   "nav_menu": {},
   "number_sections": true,
   "sideBar": true,
   "skip_h1_title": true,
   "title_cell": "",
   "title_sidebar": "Contents",
   "toc_cell": true,
   "toc_position": {},
   "toc_section_display": true,
   "toc_window_display": true
  },
  "toc-autonumbering": true,
  "varInspector": {
   "cols": {
    "lenName": 16,
    "lenType": 16,
    "lenVar": 40
   },
   "kernels_config": {
    "python": {
     "delete_cmd_postfix": "",
     "delete_cmd_prefix": "del ",
     "library": "var_list.py",
     "varRefreshCmd": "print(var_dic_list())"
    },
    "r": {
     "delete_cmd_postfix": ") ",
     "delete_cmd_prefix": "rm(",
     "library": "var_list.r",
     "varRefreshCmd": "cat(var_dic_list()) "
    }
   },
   "types_to_exclude": [
    "module",
    "function",
    "builtin_function_or_method",
    "instance",
    "_Feature"
   ],
   "window_display": false
  }
 },
 "nbformat": 4,
 "nbformat_minor": 5
}
